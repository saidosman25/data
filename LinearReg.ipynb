{
 "cells": [
  {
   "cell_type": "code",
   "execution_count": 2,
   "id": "76296696-7740-45ff-be5a-6bb5265d4ee3",
   "metadata": {},
   "outputs": [
    {
     "name": "stdout",
     "output_type": "stream",
     "text": [
      "Defaulting to user installation because normal site-packages is not writeable\n",
      "Requirement already satisfied: xlrd in c:\\users\\sosma\\appdata\\roaming\\python\\python311\\site-packages (2.0.1)\n",
      "Defaulting to user installation because normal site-packages is not writeable\n",
      "Requirement already satisfied: openpyxl in c:\\users\\sosma\\appdata\\roaming\\python\\python311\\site-packages (3.0.10)\n",
      "Requirement already satisfied: et-xmlfile in c:\\users\\sosma\\appdata\\roaming\\python\\python311\\site-packages (from openpyxl) (1.1.0)\n"
     ]
    }
   ],
   "source": [
    "# KÜTÜPHANELERİN EKLENMESİ\n",
    "import numpy as np\n",
    "import pandas as pd \n",
    "import matplotlib.pyplot as plt \n",
    "import seaborn as sns\n",
    "import scipy.stats as stats\n",
    "import statsmodels.formula.api as spf \n",
    "from sklearn.model_selection import train_test_split\n",
    "\n",
    "from sklearn.neighbors import KNeighborsClassifier\n",
    "from sklearn.linear_model import LinearRegression\n",
    "!pip install xlrd\n",
    "!pip install openpyxl\n"
   ]
  },
  {
   "cell_type": "code",
   "execution_count": 3,
   "id": "2f4e6a09-b0a3-4607-b3be-efebe6d06e93",
   "metadata": {},
   "outputs": [
    {
     "data": {
      "text/html": [
       "<div>\n",
       "<style scoped>\n",
       "    .dataframe tbody tr th:only-of-type {\n",
       "        vertical-align: middle;\n",
       "    }\n",
       "\n",
       "    .dataframe tbody tr th {\n",
       "        vertical-align: top;\n",
       "    }\n",
       "\n",
       "    .dataframe thead th {\n",
       "        text-align: right;\n",
       "    }\n",
       "</style>\n",
       "<table border=\"1\" class=\"dataframe\">\n",
       "  <thead>\n",
       "    <tr style=\"text-align: right;\">\n",
       "      <th></th>\n",
       "      <th>ogrid</th>\n",
       "      <th>VZ1</th>\n",
       "      <th>SPK1</th>\n",
       "      <th>RQ1</th>\n",
       "      <th>VZ2</th>\n",
       "      <th>SPK2</th>\n",
       "      <th>RQ2</th>\n",
       "      <th>VP</th>\n",
       "      <th>FNL</th>\n",
       "    </tr>\n",
       "  </thead>\n",
       "  <tbody>\n",
       "    <tr>\n",
       "      <th>0</th>\n",
       "      <td>1</td>\n",
       "      <td>80.0</td>\n",
       "      <td>58.0</td>\n",
       "      <td>93</td>\n",
       "      <td>72.5</td>\n",
       "      <td>81.0</td>\n",
       "      <td>100.0</td>\n",
       "      <td>90</td>\n",
       "      <td>72.0</td>\n",
       "    </tr>\n",
       "    <tr>\n",
       "      <th>1</th>\n",
       "      <td>2</td>\n",
       "      <td>90.0</td>\n",
       "      <td>92.5</td>\n",
       "      <td>100</td>\n",
       "      <td>88.5</td>\n",
       "      <td>90.0</td>\n",
       "      <td>92.0</td>\n",
       "      <td>100</td>\n",
       "      <td>89.0</td>\n",
       "    </tr>\n",
       "    <tr>\n",
       "      <th>2</th>\n",
       "      <td>3</td>\n",
       "      <td>73.0</td>\n",
       "      <td>85.0</td>\n",
       "      <td>85</td>\n",
       "      <td>63.0</td>\n",
       "      <td>65.0</td>\n",
       "      <td>58.0</td>\n",
       "      <td>80</td>\n",
       "      <td>65.0</td>\n",
       "    </tr>\n",
       "    <tr>\n",
       "      <th>3</th>\n",
       "      <td>4</td>\n",
       "      <td>80.0</td>\n",
       "      <td>85.0</td>\n",
       "      <td>65</td>\n",
       "      <td>65.0</td>\n",
       "      <td>75.0</td>\n",
       "      <td>70.0</td>\n",
       "      <td>58</td>\n",
       "      <td>58.0</td>\n",
       "    </tr>\n",
       "    <tr>\n",
       "      <th>4</th>\n",
       "      <td>5</td>\n",
       "      <td>88.0</td>\n",
       "      <td>100.0</td>\n",
       "      <td>89</td>\n",
       "      <td>76.0</td>\n",
       "      <td>90.0</td>\n",
       "      <td>100.0</td>\n",
       "      <td>43</td>\n",
       "      <td>71.0</td>\n",
       "    </tr>\n",
       "  </tbody>\n",
       "</table>\n",
       "</div>"
      ],
      "text/plain": [
       "   ogrid   VZ1   SPK1  RQ1   VZ2  SPK2    RQ2   VP   FNL\n",
       "0      1  80.0   58.0   93  72.5  81.0  100.0   90  72.0\n",
       "1      2  90.0   92.5  100  88.5  90.0   92.0  100  89.0\n",
       "2      3  73.0   85.0   85  63.0  65.0   58.0   80  65.0\n",
       "3      4  80.0   85.0   65  65.0  75.0   70.0   58  58.0\n",
       "4      5  88.0  100.0   89  76.0  90.0  100.0   43  71.0"
      ]
     },
     "execution_count": 3,
     "metadata": {},
     "output_type": "execute_result"
    }
   ],
   "source": [
    "# EXCEL DOSYASININ OKUTULMASI\n",
    "pd.set_option('display.max_columns', None) \n",
    "df = pd.read_excel(r\"C:\\Users\\sosma\\Desktop\\sondurum.xlsx\")\n",
    "df.head()"
   ]
  },
  {
   "cell_type": "code",
   "execution_count": 3,
   "id": "a46bf554-11a6-44be-90c8-24bb587ee0ea",
   "metadata": {},
   "outputs": [
    {
     "data": {
      "text/html": [
       "<div>\n",
       "<style scoped>\n",
       "    .dataframe tbody tr th:only-of-type {\n",
       "        vertical-align: middle;\n",
       "    }\n",
       "\n",
       "    .dataframe tbody tr th {\n",
       "        vertical-align: top;\n",
       "    }\n",
       "\n",
       "    .dataframe thead th {\n",
       "        text-align: right;\n",
       "    }\n",
       "</style>\n",
       "<table border=\"1\" class=\"dataframe\">\n",
       "  <thead>\n",
       "    <tr style=\"text-align: right;\">\n",
       "      <th></th>\n",
       "      <th>ogrid</th>\n",
       "      <th>VZ1</th>\n",
       "      <th>SPK1</th>\n",
       "      <th>RQ1</th>\n",
       "      <th>VZ2</th>\n",
       "      <th>SPK2</th>\n",
       "      <th>RQ2</th>\n",
       "      <th>VP</th>\n",
       "      <th>FNL</th>\n",
       "    </tr>\n",
       "  </thead>\n",
       "  <tbody>\n",
       "    <tr>\n",
       "      <th>0</th>\n",
       "      <td>1</td>\n",
       "      <td>80.0</td>\n",
       "      <td>58.0</td>\n",
       "      <td>93</td>\n",
       "      <td>72.5</td>\n",
       "      <td>81.0</td>\n",
       "      <td>100.0</td>\n",
       "      <td>90</td>\n",
       "      <td>72.0</td>\n",
       "    </tr>\n",
       "    <tr>\n",
       "      <th>1</th>\n",
       "      <td>2</td>\n",
       "      <td>90.0</td>\n",
       "      <td>92.5</td>\n",
       "      <td>100</td>\n",
       "      <td>88.5</td>\n",
       "      <td>90.0</td>\n",
       "      <td>92.0</td>\n",
       "      <td>100</td>\n",
       "      <td>89.0</td>\n",
       "    </tr>\n",
       "    <tr>\n",
       "      <th>2</th>\n",
       "      <td>3</td>\n",
       "      <td>73.0</td>\n",
       "      <td>85.0</td>\n",
       "      <td>85</td>\n",
       "      <td>63.0</td>\n",
       "      <td>65.0</td>\n",
       "      <td>58.0</td>\n",
       "      <td>80</td>\n",
       "      <td>65.0</td>\n",
       "    </tr>\n",
       "    <tr>\n",
       "      <th>3</th>\n",
       "      <td>4</td>\n",
       "      <td>80.0</td>\n",
       "      <td>85.0</td>\n",
       "      <td>65</td>\n",
       "      <td>65.0</td>\n",
       "      <td>75.0</td>\n",
       "      <td>70.0</td>\n",
       "      <td>58</td>\n",
       "      <td>58.0</td>\n",
       "    </tr>\n",
       "    <tr>\n",
       "      <th>4</th>\n",
       "      <td>5</td>\n",
       "      <td>88.0</td>\n",
       "      <td>100.0</td>\n",
       "      <td>89</td>\n",
       "      <td>76.0</td>\n",
       "      <td>90.0</td>\n",
       "      <td>100.0</td>\n",
       "      <td>43</td>\n",
       "      <td>71.0</td>\n",
       "    </tr>\n",
       "  </tbody>\n",
       "</table>\n",
       "</div>"
      ],
      "text/plain": [
       "   ogrid   VZ1   SPK1  RQ1   VZ2  SPK2    RQ2   VP   FNL\n",
       "0      1  80.0   58.0   93  72.5  81.0  100.0   90  72.0\n",
       "1      2  90.0   92.5  100  88.5  90.0   92.0  100  89.0\n",
       "2      3  73.0   85.0   85  63.0  65.0   58.0   80  65.0\n",
       "3      4  80.0   85.0   65  65.0  75.0   70.0   58  58.0\n",
       "4      5  88.0  100.0   89  76.0  90.0  100.0   43  71.0"
      ]
     },
     "execution_count": 3,
     "metadata": {},
     "output_type": "execute_result"
    }
   ],
   "source": [
    "# EXCEL DOSYASININ OKUTULMASI\n",
    "pd.set_option('display.max_columns', None) \n",
    "df = pd.read_excel(r\"C:\\Users\\sosma\\Desktop\\sondurum.xlsx\")\n",
    "df.head()"
   ]
  },
  {
   "cell_type": "code",
   "execution_count": 3,
   "id": "d1c8a574-7a49-4cd1-abe4-7f07971d8168",
   "metadata": {},
   "outputs": [
    {
     "data": {
      "text/html": [
       "<div>\n",
       "<style scoped>\n",
       "    .dataframe tbody tr th:only-of-type {\n",
       "        vertical-align: middle;\n",
       "    }\n",
       "\n",
       "    .dataframe tbody tr th {\n",
       "        vertical-align: top;\n",
       "    }\n",
       "\n",
       "    .dataframe thead th {\n",
       "        text-align: right;\n",
       "    }\n",
       "</style>\n",
       "<table border=\"1\" class=\"dataframe\">\n",
       "  <thead>\n",
       "    <tr style=\"text-align: right;\">\n",
       "      <th></th>\n",
       "      <th>ogrid</th>\n",
       "      <th>VZ1</th>\n",
       "      <th>SPK1</th>\n",
       "      <th>RQ1</th>\n",
       "      <th>VZ2</th>\n",
       "      <th>SPK2</th>\n",
       "      <th>RQ2</th>\n",
       "      <th>VP</th>\n",
       "      <th>FNL</th>\n",
       "    </tr>\n",
       "  </thead>\n",
       "  <tbody>\n",
       "    <tr>\n",
       "      <th>0</th>\n",
       "      <td>1</td>\n",
       "      <td>80.0</td>\n",
       "      <td>58.0</td>\n",
       "      <td>93</td>\n",
       "      <td>72.5</td>\n",
       "      <td>81.0</td>\n",
       "      <td>100.0</td>\n",
       "      <td>90</td>\n",
       "      <td>72.0</td>\n",
       "    </tr>\n",
       "    <tr>\n",
       "      <th>1</th>\n",
       "      <td>2</td>\n",
       "      <td>90.0</td>\n",
       "      <td>92.5</td>\n",
       "      <td>100</td>\n",
       "      <td>88.5</td>\n",
       "      <td>90.0</td>\n",
       "      <td>92.0</td>\n",
       "      <td>100</td>\n",
       "      <td>89.0</td>\n",
       "    </tr>\n",
       "    <tr>\n",
       "      <th>2</th>\n",
       "      <td>3</td>\n",
       "      <td>73.0</td>\n",
       "      <td>85.0</td>\n",
       "      <td>85</td>\n",
       "      <td>63.0</td>\n",
       "      <td>65.0</td>\n",
       "      <td>58.0</td>\n",
       "      <td>80</td>\n",
       "      <td>65.0</td>\n",
       "    </tr>\n",
       "    <tr>\n",
       "      <th>3</th>\n",
       "      <td>4</td>\n",
       "      <td>80.0</td>\n",
       "      <td>85.0</td>\n",
       "      <td>65</td>\n",
       "      <td>65.0</td>\n",
       "      <td>75.0</td>\n",
       "      <td>70.0</td>\n",
       "      <td>58</td>\n",
       "      <td>58.0</td>\n",
       "    </tr>\n",
       "    <tr>\n",
       "      <th>4</th>\n",
       "      <td>5</td>\n",
       "      <td>88.0</td>\n",
       "      <td>100.0</td>\n",
       "      <td>89</td>\n",
       "      <td>76.0</td>\n",
       "      <td>90.0</td>\n",
       "      <td>100.0</td>\n",
       "      <td>43</td>\n",
       "      <td>71.0</td>\n",
       "    </tr>\n",
       "  </tbody>\n",
       "</table>\n",
       "</div>"
      ],
      "text/plain": [
       "   ogrid   VZ1   SPK1  RQ1   VZ2  SPK2    RQ2   VP   FNL\n",
       "0      1  80.0   58.0   93  72.5  81.0  100.0   90  72.0\n",
       "1      2  90.0   92.5  100  88.5  90.0   92.0  100  89.0\n",
       "2      3  73.0   85.0   85  63.0  65.0   58.0   80  65.0\n",
       "3      4  80.0   85.0   65  65.0  75.0   70.0   58  58.0\n",
       "4      5  88.0  100.0   89  76.0  90.0  100.0   43  71.0"
      ]
     },
     "execution_count": 3,
     "metadata": {},
     "output_type": "execute_result"
    }
   ],
   "source": [
    "# EXCEL DOSYASININ OKUTULMASI\n",
    "pd.set_option('display.max_columns', None) \n",
    "df = pd.read_excel(r\"C:\\Users\\sosma\\Desktop\\sondurum.xlsx\")\n",
    "df.head()"
   ]
  },
  {
   "cell_type": "code",
   "execution_count": 4,
   "id": "8c0e1cef-66c6-4059-acc4-5dd8cdee1923",
   "metadata": {},
   "outputs": [
    {
     "data": {
      "text/html": [
       "<div>\n",
       "<style scoped>\n",
       "    .dataframe tbody tr th:only-of-type {\n",
       "        vertical-align: middle;\n",
       "    }\n",
       "\n",
       "    .dataframe tbody tr th {\n",
       "        vertical-align: top;\n",
       "    }\n",
       "\n",
       "    .dataframe thead th {\n",
       "        text-align: right;\n",
       "    }\n",
       "</style>\n",
       "<table border=\"1\" class=\"dataframe\">\n",
       "  <thead>\n",
       "    <tr style=\"text-align: right;\">\n",
       "      <th></th>\n",
       "      <th>ogrid</th>\n",
       "      <th>VZ1</th>\n",
       "      <th>SPK1</th>\n",
       "      <th>RQ1</th>\n",
       "      <th>VZ2</th>\n",
       "      <th>SPK2</th>\n",
       "      <th>RQ2</th>\n",
       "      <th>VP</th>\n",
       "      <th>FNL</th>\n",
       "    </tr>\n",
       "  </thead>\n",
       "  <tbody>\n",
       "    <tr>\n",
       "      <th>ogrid</th>\n",
       "      <td>1.000000</td>\n",
       "      <td>-0.072032</td>\n",
       "      <td>-0.001507</td>\n",
       "      <td>0.045720</td>\n",
       "      <td>-0.077853</td>\n",
       "      <td>-0.039494</td>\n",
       "      <td>0.008100</td>\n",
       "      <td>-0.016833</td>\n",
       "      <td>-0.079414</td>\n",
       "    </tr>\n",
       "    <tr>\n",
       "      <th>VZ1</th>\n",
       "      <td>-0.072032</td>\n",
       "      <td>1.000000</td>\n",
       "      <td>0.496618</td>\n",
       "      <td>0.230624</td>\n",
       "      <td>0.762830</td>\n",
       "      <td>0.483377</td>\n",
       "      <td>0.235453</td>\n",
       "      <td>0.093774</td>\n",
       "      <td>0.708561</td>\n",
       "    </tr>\n",
       "    <tr>\n",
       "      <th>SPK1</th>\n",
       "      <td>-0.001507</td>\n",
       "      <td>0.496618</td>\n",
       "      <td>1.000000</td>\n",
       "      <td>0.174484</td>\n",
       "      <td>0.448975</td>\n",
       "      <td>0.503361</td>\n",
       "      <td>0.140070</td>\n",
       "      <td>0.023095</td>\n",
       "      <td>0.457107</td>\n",
       "    </tr>\n",
       "    <tr>\n",
       "      <th>RQ1</th>\n",
       "      <td>0.045720</td>\n",
       "      <td>0.230624</td>\n",
       "      <td>0.174484</td>\n",
       "      <td>1.000000</td>\n",
       "      <td>0.250589</td>\n",
       "      <td>0.150359</td>\n",
       "      <td>0.289930</td>\n",
       "      <td>0.123020</td>\n",
       "      <td>0.208868</td>\n",
       "    </tr>\n",
       "    <tr>\n",
       "      <th>VZ2</th>\n",
       "      <td>-0.077853</td>\n",
       "      <td>0.762830</td>\n",
       "      <td>0.448975</td>\n",
       "      <td>0.250589</td>\n",
       "      <td>1.000000</td>\n",
       "      <td>0.551551</td>\n",
       "      <td>0.261643</td>\n",
       "      <td>0.196616</td>\n",
       "      <td>0.753610</td>\n",
       "    </tr>\n",
       "    <tr>\n",
       "      <th>SPK2</th>\n",
       "      <td>-0.039494</td>\n",
       "      <td>0.483377</td>\n",
       "      <td>0.503361</td>\n",
       "      <td>0.150359</td>\n",
       "      <td>0.551551</td>\n",
       "      <td>1.000000</td>\n",
       "      <td>0.114347</td>\n",
       "      <td>0.110087</td>\n",
       "      <td>0.518586</td>\n",
       "    </tr>\n",
       "    <tr>\n",
       "      <th>RQ2</th>\n",
       "      <td>0.008100</td>\n",
       "      <td>0.235453</td>\n",
       "      <td>0.140070</td>\n",
       "      <td>0.289930</td>\n",
       "      <td>0.261643</td>\n",
       "      <td>0.114347</td>\n",
       "      <td>1.000000</td>\n",
       "      <td>0.299445</td>\n",
       "      <td>0.249861</td>\n",
       "    </tr>\n",
       "    <tr>\n",
       "      <th>VP</th>\n",
       "      <td>-0.016833</td>\n",
       "      <td>0.093774</td>\n",
       "      <td>0.023095</td>\n",
       "      <td>0.123020</td>\n",
       "      <td>0.196616</td>\n",
       "      <td>0.110087</td>\n",
       "      <td>0.299445</td>\n",
       "      <td>1.000000</td>\n",
       "      <td>0.141933</td>\n",
       "    </tr>\n",
       "    <tr>\n",
       "      <th>FNL</th>\n",
       "      <td>-0.079414</td>\n",
       "      <td>0.708561</td>\n",
       "      <td>0.457107</td>\n",
       "      <td>0.208868</td>\n",
       "      <td>0.753610</td>\n",
       "      <td>0.518586</td>\n",
       "      <td>0.249861</td>\n",
       "      <td>0.141933</td>\n",
       "      <td>1.000000</td>\n",
       "    </tr>\n",
       "  </tbody>\n",
       "</table>\n",
       "</div>"
      ],
      "text/plain": [
       "          ogrid       VZ1      SPK1       RQ1       VZ2      SPK2       RQ2  \\\n",
       "ogrid  1.000000 -0.072032 -0.001507  0.045720 -0.077853 -0.039494  0.008100   \n",
       "VZ1   -0.072032  1.000000  0.496618  0.230624  0.762830  0.483377  0.235453   \n",
       "SPK1  -0.001507  0.496618  1.000000  0.174484  0.448975  0.503361  0.140070   \n",
       "RQ1    0.045720  0.230624  0.174484  1.000000  0.250589  0.150359  0.289930   \n",
       "VZ2   -0.077853  0.762830  0.448975  0.250589  1.000000  0.551551  0.261643   \n",
       "SPK2  -0.039494  0.483377  0.503361  0.150359  0.551551  1.000000  0.114347   \n",
       "RQ2    0.008100  0.235453  0.140070  0.289930  0.261643  0.114347  1.000000   \n",
       "VP    -0.016833  0.093774  0.023095  0.123020  0.196616  0.110087  0.299445   \n",
       "FNL   -0.079414  0.708561  0.457107  0.208868  0.753610  0.518586  0.249861   \n",
       "\n",
       "             VP       FNL  \n",
       "ogrid -0.016833 -0.079414  \n",
       "VZ1    0.093774  0.708561  \n",
       "SPK1   0.023095  0.457107  \n",
       "RQ1    0.123020  0.208868  \n",
       "VZ2    0.196616  0.753610  \n",
       "SPK2   0.110087  0.518586  \n",
       "RQ2    0.299445  0.249861  \n",
       "VP     1.000000  0.141933  \n",
       "FNL    0.141933  1.000000  "
      ]
     },
     "execution_count": 4,
     "metadata": {},
     "output_type": "execute_result"
    }
   ],
   "source": [
    "# SINAVLAR ARASI İLİŞKİNİN KORELASYON İLE ÖLÇÜLMESİ\n",
    "df.drop(['ogrid'], axis=1)\n",
    "df.corr()"
   ]
  },
  {
   "cell_type": "code",
   "execution_count": 5,
   "id": "01c71655-550a-4e00-89b6-16348328ba56",
   "metadata": {},
   "outputs": [],
   "source": [
    "# VZ1 SINAVI İLE BAĞLANTILI OLMAYAN SINAVLARIN VERİ SETİNDEN ÇIKARILMASI\n",
    "df = df.drop(columns=['SPK1', 'RQ1','SPK2','RQ2','VP'])"
   ]
  },
  {
   "cell_type": "code",
   "execution_count": 6,
   "id": "2ed2c9c4-2842-4705-b420-28d9a069e0fc",
   "metadata": {},
   "outputs": [
    {
     "data": {
      "text/html": [
       "<div>\n",
       "<style scoped>\n",
       "    .dataframe tbody tr th:only-of-type {\n",
       "        vertical-align: middle;\n",
       "    }\n",
       "\n",
       "    .dataframe tbody tr th {\n",
       "        vertical-align: top;\n",
       "    }\n",
       "\n",
       "    .dataframe thead th {\n",
       "        text-align: right;\n",
       "    }\n",
       "</style>\n",
       "<table border=\"1\" class=\"dataframe\">\n",
       "  <thead>\n",
       "    <tr style=\"text-align: right;\">\n",
       "      <th></th>\n",
       "      <th>ogrid</th>\n",
       "      <th>VZ1</th>\n",
       "      <th>VZ2</th>\n",
       "      <th>FNL</th>\n",
       "    </tr>\n",
       "  </thead>\n",
       "  <tbody>\n",
       "    <tr>\n",
       "      <th>0</th>\n",
       "      <td>1</td>\n",
       "      <td>80.0</td>\n",
       "      <td>72.5</td>\n",
       "      <td>72.0</td>\n",
       "    </tr>\n",
       "    <tr>\n",
       "      <th>1</th>\n",
       "      <td>2</td>\n",
       "      <td>90.0</td>\n",
       "      <td>88.5</td>\n",
       "      <td>89.0</td>\n",
       "    </tr>\n",
       "    <tr>\n",
       "      <th>2</th>\n",
       "      <td>3</td>\n",
       "      <td>73.0</td>\n",
       "      <td>63.0</td>\n",
       "      <td>65.0</td>\n",
       "    </tr>\n",
       "    <tr>\n",
       "      <th>3</th>\n",
       "      <td>4</td>\n",
       "      <td>80.0</td>\n",
       "      <td>65.0</td>\n",
       "      <td>58.0</td>\n",
       "    </tr>\n",
       "    <tr>\n",
       "      <th>4</th>\n",
       "      <td>5</td>\n",
       "      <td>88.0</td>\n",
       "      <td>76.0</td>\n",
       "      <td>71.0</td>\n",
       "    </tr>\n",
       "  </tbody>\n",
       "</table>\n",
       "</div>"
      ],
      "text/plain": [
       "   ogrid   VZ1   VZ2   FNL\n",
       "0      1  80.0  72.5  72.0\n",
       "1      2  90.0  88.5  89.0\n",
       "2      3  73.0  63.0  65.0\n",
       "3      4  80.0  65.0  58.0\n",
       "4      5  88.0  76.0  71.0"
      ]
     },
     "execution_count": 6,
     "metadata": {},
     "output_type": "execute_result"
    }
   ],
   "source": [
    "df.head()"
   ]
  },
  {
   "cell_type": "code",
   "execution_count": 7,
   "id": "b2efcde6-946b-403b-ba25-982e23508c64",
   "metadata": {},
   "outputs": [
    {
     "data": {
      "text/plain": [
       "67809.0"
      ]
     },
     "execution_count": 7,
     "metadata": {},
     "output_type": "execute_result"
    }
   ],
   "source": [
    "# TÜM ÖĞRENCİLERİN VİZE1 SINAVINDAN ALDIĞI TOPLAM NOT\n",
    "df.VZ1.sum()\n"
   ]
  },
  {
   "cell_type": "code",
   "execution_count": 8,
   "id": "aa3d9a61-5d9b-4793-a6c5-487691765cea",
   "metadata": {},
   "outputs": [
    {
     "data": {
      "text/plain": [
       "60505.0"
      ]
     },
     "execution_count": 8,
     "metadata": {},
     "output_type": "execute_result"
    }
   ],
   "source": [
    "df.VZ2.sum()"
   ]
  },
  {
   "cell_type": "code",
   "execution_count": 9,
   "id": "a7842ca1-9db3-46a2-8c79-6f9c6219c659",
   "metadata": {},
   "outputs": [
    {
     "data": {
      "text/plain": [
       "61693.5"
      ]
     },
     "execution_count": 9,
     "metadata": {},
     "output_type": "execute_result"
    }
   ],
   "source": [
    "df.FNL.sum()"
   ]
  },
  {
   "cell_type": "code",
   "execution_count": 10,
   "id": "fce5a167-2f39-4f1d-96e9-ced797f05a55",
   "metadata": {},
   "outputs": [
    {
     "data": {
      "text/html": [
       "<div>\n",
       "<style scoped>\n",
       "    .dataframe tbody tr th:only-of-type {\n",
       "        vertical-align: middle;\n",
       "    }\n",
       "\n",
       "    .dataframe tbody tr th {\n",
       "        vertical-align: top;\n",
       "    }\n",
       "\n",
       "    .dataframe thead th {\n",
       "        text-align: right;\n",
       "    }\n",
       "</style>\n",
       "<table border=\"1\" class=\"dataframe\">\n",
       "  <thead>\n",
       "    <tr style=\"text-align: right;\">\n",
       "      <th></th>\n",
       "      <th>ogrid</th>\n",
       "      <th>VZ1</th>\n",
       "      <th>VZ2</th>\n",
       "      <th>FNL</th>\n",
       "    </tr>\n",
       "  </thead>\n",
       "  <tbody>\n",
       "  </tbody>\n",
       "</table>\n",
       "</div>"
      ],
      "text/plain": [
       "Empty DataFrame\n",
       "Columns: [ogrid, VZ1, VZ2, FNL]\n",
       "Index: []"
      ]
     },
     "execution_count": 10,
     "metadata": {},
     "output_type": "execute_result"
    }
   ],
   "source": [
    "df.loc[df.VZ1 == 0 ]"
   ]
  },
  {
   "cell_type": "code",
   "execution_count": 11,
   "id": "f962b998-2a6b-4080-9319-56957a7d1af2",
   "metadata": {},
   "outputs": [
    {
     "data": {
      "text/plain": [
       "(868, 4)"
      ]
     },
     "execution_count": 11,
     "metadata": {},
     "output_type": "execute_result"
    }
   ],
   "source": [
    "df.loc[df.VZ2 == 0 ]\n",
    "df.shape"
   ]
  },
  {
   "cell_type": "code",
   "execution_count": 12,
   "id": "ba2cc14f-0210-43e8-aaa5-6f2c667b413f",
   "metadata": {},
   "outputs": [],
   "source": [
    "df.loc[df.FNL == 0 ]\n",
    "df = df.drop([621,122])"
   ]
  },
  {
   "cell_type": "code",
   "execution_count": 13,
   "id": "e25f2b0d-a5ea-4e4f-9d78-a6dc8cf2cd7a",
   "metadata": {},
   "outputs": [
    {
     "data": {
      "text/html": [
       "<div>\n",
       "<style scoped>\n",
       "    .dataframe tbody tr th:only-of-type {\n",
       "        vertical-align: middle;\n",
       "    }\n",
       "\n",
       "    .dataframe tbody tr th {\n",
       "        vertical-align: top;\n",
       "    }\n",
       "\n",
       "    .dataframe thead th {\n",
       "        text-align: right;\n",
       "    }\n",
       "</style>\n",
       "<table border=\"1\" class=\"dataframe\">\n",
       "  <thead>\n",
       "    <tr style=\"text-align: right;\">\n",
       "      <th></th>\n",
       "      <th>ogrid</th>\n",
       "      <th>VZ1</th>\n",
       "      <th>VZ2</th>\n",
       "      <th>FNL</th>\n",
       "    </tr>\n",
       "  </thead>\n",
       "  <tbody>\n",
       "    <tr>\n",
       "      <th>0</th>\n",
       "      <td>1</td>\n",
       "      <td>80.0</td>\n",
       "      <td>72.5</td>\n",
       "      <td>72.0</td>\n",
       "    </tr>\n",
       "    <tr>\n",
       "      <th>1</th>\n",
       "      <td>2</td>\n",
       "      <td>90.0</td>\n",
       "      <td>88.5</td>\n",
       "      <td>89.0</td>\n",
       "    </tr>\n",
       "    <tr>\n",
       "      <th>2</th>\n",
       "      <td>3</td>\n",
       "      <td>73.0</td>\n",
       "      <td>63.0</td>\n",
       "      <td>65.0</td>\n",
       "    </tr>\n",
       "    <tr>\n",
       "      <th>3</th>\n",
       "      <td>4</td>\n",
       "      <td>80.0</td>\n",
       "      <td>65.0</td>\n",
       "      <td>58.0</td>\n",
       "    </tr>\n",
       "    <tr>\n",
       "      <th>4</th>\n",
       "      <td>5</td>\n",
       "      <td>88.0</td>\n",
       "      <td>76.0</td>\n",
       "      <td>71.0</td>\n",
       "    </tr>\n",
       "  </tbody>\n",
       "</table>\n",
       "</div>"
      ],
      "text/plain": [
       "   ogrid   VZ1   VZ2   FNL\n",
       "0      1  80.0  72.5  72.0\n",
       "1      2  90.0  88.5  89.0\n",
       "2      3  73.0  63.0  65.0\n",
       "3      4  80.0  65.0  58.0\n",
       "4      5  88.0  76.0  71.0"
      ]
     },
     "execution_count": 13,
     "metadata": {},
     "output_type": "execute_result"
    }
   ],
   "source": [
    "df.head()"
   ]
  },
  {
   "cell_type": "code",
   "execution_count": 14,
   "id": "afefda8b-40da-4a54-9b7c-dbbdb7f15440",
   "metadata": {},
   "outputs": [],
   "source": [
    "\n",
    "\n",
    "\n",
    "#df['bool2'] =  np.where((df['VZ1'] >= 40 ) &(df['VZ1'] <= 50 )  , True, False)\n",
    "\n",
    "#dogru_sayisi1 = df[df.bool2 == True]\n",
    "\n",
    "#print(dogru_sayisi1)\n",
    "\n",
    "#count = df['bool2'].value_counts()\n",
    "#print (count)"
   ]
  },
  {
   "cell_type": "code",
   "execution_count": 15,
   "id": "98878e58-1986-4821-a194-865554be09d4",
   "metadata": {},
   "outputs": [
    {
     "data": {
      "text/plain": [
       "<AxesSubplot: xlabel='VZ1', ylabel='Count'>"
      ]
     },
     "execution_count": 15,
     "metadata": {},
     "output_type": "execute_result"
    },
    {
     "data": {
      "image/png": "[encoded data removed]",
      "text/plain": [
       "<Figure size 640x480 with 1 Axes>"
      ]
     },
     "metadata": {},
     "output_type": "display_data"
    }
   ],
   "source": [
    "#VZ1 = 8.9278--------- 67.674    TOPLAM PUAN\n",
    "#VZ2 = 10------------- 60.418    TOPLAM PUAN\n",
    "#FNL = 9.7980 -------- 61.663.5  TOPLAM PUAN\n",
    "\n",
    "\n",
    "\n",
    "sns.histplot(df[\"VZ1\"], kde=True)\n",
    "\n"
   ]
  },
  {
   "cell_type": "code",
   "execution_count": 16,
   "id": "bc9ec9e9-1712-45bd-afa3-bcaa116e102e",
   "metadata": {},
   "outputs": [
    {
     "data": {
      "text/plain": [
       "<seaborn.axisgrid.JointGrid at 0x202df5f55d0>"
      ]
     },
     "execution_count": 16,
     "metadata": {},
     "output_type": "execute_result"
    },
    {
     "data": {
      "image/png": "[encoded data removed]",
      "text/plain": [
       "<Figure size 600x600 with 3 Axes>"
      ]
     },
     "metadata": {},
     "output_type": "display_data"
    }
   ],
   "source": [
    "sns.jointplot(data=df, x=\"VZ1\", y=\"VZ2\", kind=\"reg\" )\n"
   ]
  },
  {
   "cell_type": "code",
   "execution_count": 17,
   "id": "b1bb3596-b9f5-45d1-a7b8-a0ff60fb25b4",
   "metadata": {},
   "outputs": [
    {
     "data": {
      "text/plain": [
       "Text(0.5, 1.0, 'Regresyon Çizgisi')"
      ]
     },
     "execution_count": 17,
     "metadata": {},
     "output_type": "execute_result"
    },
    {
     "data": {
      "image/png": "[encoded data removed]",
      "text/plain": [
       "<Figure size 640x480 with 1 Axes>"
      ]
     },
     "metadata": {},
     "output_type": "display_data"
    }
   ],
   "source": [
    "sns.regplot(x=\"VZ1\", y=\"VZ2\", data = df)\n",
    "plt.title(\"Regresyon Çizgisi\")"
   ]
  },
  {
   "cell_type": "code",
   "execution_count": 18,
   "id": "462f85cb-89f0-49f1-aacd-406d710d252a",
   "metadata": {},
   "outputs": [
    {
     "data": {
      "text/html": [
       "<style>#sk-container-id-1 {color: black;background-color: white;}#sk-container-id-1 pre{padding: 0;}#sk-container-id-1 div.sk-toggleable {background-color: white;}#sk-container-id-1 label.sk-toggleable__label {cursor: pointer;display: block;width: 100%;margin-bottom: 0;padding: 0.3em;box-sizing: border-box;text-align: center;}#sk-container-id-1 label.sk-toggleable__label-arrow:before {content: \"▸\";float: left;margin-right: 0.25em;color: #696969;}#sk-container-id-1 label.sk-toggleable__label-arrow:hover:before {color: black;}#sk-container-id-1 div.sk-estimator:hover label.sk-toggleable__label-arrow:before {color: black;}#sk-container-id-1 div.sk-toggleable__content {max-height: 0;max-width: 0;overflow: hidden;text-align: left;background-color: #f0f8ff;}#sk-container-id-1 div.sk-toggleable__content pre {margin: 0.2em;color: black;border-radius: 0.25em;background-color: #f0f8ff;}#sk-container-id-1 input.sk-toggleable__control:checked~div.sk-toggleable__content {max-height: 200px;max-width: 100%;overflow: auto;}#sk-container-id-1 input.sk-toggleable__control:checked~label.sk-toggleable__label-arrow:before {content: \"▾\";}#sk-container-id-1 div.sk-estimator input.sk-toggleable__control:checked~label.sk-toggleable__label {background-color: #d4ebff;}#sk-container-id-1 div.sk-label input.sk-toggleable__control:checked~label.sk-toggleable__label {background-color: #d4ebff;}#sk-container-id-1 input.sk-hidden--visually {border: 0;clip: rect(1px 1px 1px 1px);clip: rect(1px, 1px, 1px, 1px);height: 1px;margin: -1px;overflow: hidden;padding: 0;position: absolute;width: 1px;}#sk-container-id-1 div.sk-estimator {font-family: monospace;background-color: #f0f8ff;border: 1px dotted black;border-radius: 0.25em;box-sizing: border-box;margin-bottom: 0.5em;}#sk-container-id-1 div.sk-estimator:hover {background-color: #d4ebff;}#sk-container-id-1 div.sk-parallel-item::after {content: \"\";width: 100%;border-bottom: 1px solid gray;flex-grow: 1;}#sk-container-id-1 div.sk-label:hover label.sk-toggleable__label {background-color: #d4ebff;}#sk-container-id-1 div.sk-serial::before {content: \"\";position: absolute;border-left: 1px solid gray;box-sizing: border-box;top: 0;bottom: 0;left: 50%;z-index: 0;}#sk-container-id-1 div.sk-serial {display: flex;flex-direction: column;align-items: center;background-color: white;padding-right: 0.2em;padding-left: 0.2em;position: relative;}#sk-container-id-1 div.sk-item {position: relative;z-index: 1;}#sk-container-id-1 div.sk-parallel {display: flex;align-items: stretch;justify-content: center;background-color: white;position: relative;}#sk-container-id-1 div.sk-item::before, #sk-container-id-1 div.sk-parallel-item::before {content: \"\";position: absolute;border-left: 1px solid gray;box-sizing: border-box;top: 0;bottom: 0;left: 50%;z-index: -1;}#sk-container-id-1 div.sk-parallel-item {display: flex;flex-direction: column;z-index: 1;position: relative;background-color: white;}#sk-container-id-1 div.sk-parallel-item:first-child::after {align-self: flex-end;width: 50%;}#sk-container-id-1 div.sk-parallel-item:last-child::after {align-self: flex-start;width: 50%;}#sk-container-id-1 div.sk-parallel-item:only-child::after {width: 0;}#sk-container-id-1 div.sk-dashed-wrapped {border: 1px dashed gray;margin: 0 0.4em 0.5em 0.4em;box-sizing: border-box;padding-bottom: 0.4em;background-color: white;}#sk-container-id-1 div.sk-label label {font-family: monospace;font-weight: bold;display: inline-block;line-height: 1.2em;}#sk-container-id-1 div.sk-label-container {text-align: center;}#sk-container-id-1 div.sk-container {/* jupyter's `normalize.less` sets `[hidden] { display: none; }` but bootstrap.min.css set `[hidden] { display: none !important; }` so we also need the `!important` here to be able to override the default hidden behavior on the sphinx rendered scikit-learn.org. See: https://github.com/scikit-learn/scikit-learn/issues/21755 */display: inline-block !important;position: relative;}#sk-container-id-1 div.sk-text-repr-fallback {display: none;}</style><div id=\"sk-container-id-1\" class=\"sk-top-container\"><div class=\"sk-text-repr-fallback\"><pre>LinearRegression()</pre><b>In a Jupyter environment, please rerun this cell to show the HTML representation or trust the notebook. <br />On GitHub, the HTML representation is unable to render, please try loading this page with nbviewer.org.</b></div><div class=\"sk-container\" hidden><div class=\"sk-item\"><div class=\"sk-estimator sk-toggleable\"><input class=\"sk-toggleable__control sk-hidden--visually\" id=\"sk-estimator-id-1\" type=\"checkbox\" checked><label for=\"sk-estimator-id-1\" class=\"sk-toggleable__label sk-toggleable__label-arrow\">LinearRegression</label><div class=\"sk-toggleable__content\"><pre>LinearRegression()</pre></div></div></div></div></div>"
      ],
      "text/plain": [
       "LinearRegression()"
      ]
     },
     "execution_count": 18,
     "metadata": {},
     "output_type": "execute_result"
    }
   ],
   "source": [
    "#vize1_liste = []\n",
    "#vize2_liste = []\n",
    "\n",
    "#for VZ1 in df['VZ1']:\n",
    "    \n",
    "#    vize1_liste.append(VZ1)\n",
    "    \n",
    "#for VZ2 in df['VZ2']:\n",
    "    \n",
    "#    vize2_liste.append(VZ2)\n",
    "    \n",
    "\n",
    "\n",
    "x = df.iloc[:,:-1]\n",
    "y = df.iloc[:,-1]\n",
    "\n",
    "#print(x)\n",
    "#print(y)\n",
    "x_train,x_test,y_train,y_test = train_test_split(x,y,test_size=0.30,random_state=0)\n",
    "\n",
    "regressor= LinearRegression()\n",
    "\n",
    "regressor.fit(x_train,y_train)\n"
   ]
  },
  {
   "cell_type": "code",
   "execution_count": 19,
   "id": "c81f2a3d-2618-4ef0-90ba-76b13fc4904a",
   "metadata": {},
   "outputs": [],
   "source": [
    "y_pred = regressor.predict(x_test)\n",
    "#y_pred"
   ]
  },
  {
   "cell_type": "code",
   "execution_count": 20,
   "id": "a2787e9a-a22d-4b84-813a-7e9fe89311d3",
   "metadata": {},
   "outputs": [
    {
     "name": "stdout",
     "output_type": "stream",
     "text": [
      "     Gerçek_Not  Tahmin_Not  Tahmin_Not_55  Tahmin_Not_5  bool1\n",
      "633        61.0   64.051986      54.051986     74.051986   True\n",
      "77         73.0   75.936777      65.936777     85.936777   True\n",
      "691        72.0   79.900821      69.900821     89.900821   True\n",
      "254        65.0   61.880469      51.880469     71.880469   True\n",
      "751        73.0   72.459458      62.459458     82.459458   True\n",
      "..          ...         ...            ...           ...    ...\n",
      "688        73.0   68.543942      58.543942     78.543942   True\n",
      "128        69.0   68.942954      58.942954     78.942954   True\n",
      "241        66.0   56.214679      46.214679     66.214679   True\n",
      "808        62.0   54.809333      44.809333     64.809333   True\n",
      "419        60.0   58.887590      48.887590     68.887590   True\n",
      "\n",
      "[119 rows x 5 columns]\n",
      "False    141\n",
      "True     119\n",
      "Name: bool1, dtype: int64\n"
     ]
    }
   ],
   "source": [
    "df1 = pd.DataFrame({'Gerçek_Not' : y_test ,'Tahmin_Not' :y_pred } )\n",
    "\n",
    "\n",
    "\n",
    "df1 = df1.astype({\"Gerçek_Not\":'float',\n",
    "                \"Tahmin_Not\":'float'\n",
    "                })\n",
    "\n",
    "\n",
    "\n",
    "df1['Tahmin_Not_55'] = df1[['Tahmin_Not']] -10\n",
    "\n",
    "df1['Tahmin_Not_5'] = df1[['Tahmin_Not']] + 10\n",
    "\n",
    "df1\n",
    "\n",
    "df1['bool1'] =  np.where((df1['Gerçek_Not'] >= df1['Tahmin_Not_55']) &(df1['Gerçek_Not'] <= df1['Tahmin_Not_5'] ) & (df1['Gerçek_Not'] <= 80) & (df1['Gerçek_Not'] >= 60) & (df1['Tahmin_Not'] <= 80) , True, False)\n",
    "\n",
    "dogru_sayisi1 = df1[df1.bool1 == True]\n",
    "\n",
    "print(dogru_sayisi1)\n",
    "\n",
    "count1 = df1['bool1'].value_counts()\n",
    "print (count1)\n",
    "\n",
    "\n",
    "\n"
   ]
  },
  {
   "cell_type": "code",
   "execution_count": 21,
   "id": "dc1b0694-6dd6-45a6-bdef-a98b420af59f",
   "metadata": {},
   "outputs": [
    {
     "name": "stdout",
     "output_type": "stream",
     "text": [
      "     Gerçek_Not  Tahmin_Not  Tahmin_Not_55  Tahmin_Not_5  bool1  bool2\n",
      "379        66.0   79.815039      69.815039     89.815039  False  False\n",
      "101        54.0   62.146474      52.146474     72.146474  False  False\n",
      "633        61.0   64.051986      54.051986     74.051986   True  False\n",
      "176        48.0   49.145864      39.145864     59.145864  False  False\n",
      "77         73.0   75.936777      65.936777     85.936777   True  False\n",
      "..          ...         ...            ...           ...    ...    ...\n",
      "241        66.0   56.214679      46.214679     66.214679   True  False\n",
      "808        62.0   54.809333      44.809333     64.809333   True  False\n",
      "236        75.0   60.927351      50.927351     70.927351  False  False\n",
      "419        60.0   58.887590      48.887590     68.887590   True  False\n",
      "242        52.0   46.330974      36.330974     56.330974  False  False\n",
      "\n",
      "[260 rows x 6 columns]\n"
     ]
    }
   ],
   "source": [
    "df1['bool2'] =  np.where((df1['Gerçek_Not'] == df1['Tahmin_Not'] )  , True, False)\n",
    "\n",
    "dogru_sayisi2 = df1[df1.bool2 == False]\n",
    "\n",
    "print(dogru_sayisi2)"
   ]
  },
  {
   "cell_type": "code",
   "execution_count": 22,
   "id": "121595a3-03fd-4003-97d6-f9378d5d2ad0",
   "metadata": {},
   "outputs": [],
   "source": [
    "from sklearn.model_selection import StratifiedShuffleSplit\n",
    "\n",
    "\n",
    "\n",
    "from sklearn.linear_model import LogisticRegression\n",
    "from sklearn.tree import DecisionTreeRegressor\n",
    "from sklearn.neighbors import KNeighborsRegressor\n",
    "from sklearn.ensemble import RandomForestRegressor\n",
    "from sklearn.ensemble import GradientBoostingRegressor\n",
    "from sklearn.linear_model import ElasticNet\n",
    "from sklearn.linear_model import BayesianRidge\n",
    "from sklearn.kernel_ridge import KernelRidge\n",
    "from xgboost.sklearn import XGBRegressor\n",
    "from sklearn.svm import SVR"
   ]
  },
  {
   "cell_type": "code",
   "execution_count": 23,
   "id": "193f3059-2549-469c-bd85-999a33764dbd",
   "metadata": {},
   "outputs": [
    {
     "data": {
      "text/html": [
       "<style>#sk-container-id-2 {color: black;background-color: white;}#sk-container-id-2 pre{padding: 0;}#sk-container-id-2 div.sk-toggleable {background-color: white;}#sk-container-id-2 label.sk-toggleable__label {cursor: pointer;display: block;width: 100%;margin-bottom: 0;padding: 0.3em;box-sizing: border-box;text-align: center;}#sk-container-id-2 label.sk-toggleable__label-arrow:before {content: \"▸\";float: left;margin-right: 0.25em;color: #696969;}#sk-container-id-2 label.sk-toggleable__label-arrow:hover:before {color: black;}#sk-container-id-2 div.sk-estimator:hover label.sk-toggleable__label-arrow:before {color: black;}#sk-container-id-2 div.sk-toggleable__content {max-height: 0;max-width: 0;overflow: hidden;text-align: left;background-color: #f0f8ff;}#sk-container-id-2 div.sk-toggleable__content pre {margin: 0.2em;color: black;border-radius: 0.25em;background-color: #f0f8ff;}#sk-container-id-2 input.sk-toggleable__control:checked~div.sk-toggleable__content {max-height: 200px;max-width: 100%;overflow: auto;}#sk-container-id-2 input.sk-toggleable__control:checked~label.sk-toggleable__label-arrow:before {content: \"▾\";}#sk-container-id-2 div.sk-estimator input.sk-toggleable__control:checked~label.sk-toggleable__label {background-color: #d4ebff;}#sk-container-id-2 div.sk-label input.sk-toggleable__control:checked~label.sk-toggleable__label {background-color: #d4ebff;}#sk-container-id-2 input.sk-hidden--visually {border: 0;clip: rect(1px 1px 1px 1px);clip: rect(1px, 1px, 1px, 1px);height: 1px;margin: -1px;overflow: hidden;padding: 0;position: absolute;width: 1px;}#sk-container-id-2 div.sk-estimator {font-family: monospace;background-color: #f0f8ff;border: 1px dotted black;border-radius: 0.25em;box-sizing: border-box;margin-bottom: 0.5em;}#sk-container-id-2 div.sk-estimator:hover {background-color: #d4ebff;}#sk-container-id-2 div.sk-parallel-item::after {content: \"\";width: 100%;border-bottom: 1px solid gray;flex-grow: 1;}#sk-container-id-2 div.sk-label:hover label.sk-toggleable__label {background-color: #d4ebff;}#sk-container-id-2 div.sk-serial::before {content: \"\";position: absolute;border-left: 1px solid gray;box-sizing: border-box;top: 0;bottom: 0;left: 50%;z-index: 0;}#sk-container-id-2 div.sk-serial {display: flex;flex-direction: column;align-items: center;background-color: white;padding-right: 0.2em;padding-left: 0.2em;position: relative;}#sk-container-id-2 div.sk-item {position: relative;z-index: 1;}#sk-container-id-2 div.sk-parallel {display: flex;align-items: stretch;justify-content: center;background-color: white;position: relative;}#sk-container-id-2 div.sk-item::before, #sk-container-id-2 div.sk-parallel-item::before {content: \"\";position: absolute;border-left: 1px solid gray;box-sizing: border-box;top: 0;bottom: 0;left: 50%;z-index: -1;}#sk-container-id-2 div.sk-parallel-item {display: flex;flex-direction: column;z-index: 1;position: relative;background-color: white;}#sk-container-id-2 div.sk-parallel-item:first-child::after {align-self: flex-end;width: 50%;}#sk-container-id-2 div.sk-parallel-item:last-child::after {align-self: flex-start;width: 50%;}#sk-container-id-2 div.sk-parallel-item:only-child::after {width: 0;}#sk-container-id-2 div.sk-dashed-wrapped {border: 1px dashed gray;margin: 0 0.4em 0.5em 0.4em;box-sizing: border-box;padding-bottom: 0.4em;background-color: white;}#sk-container-id-2 div.sk-label label {font-family: monospace;font-weight: bold;display: inline-block;line-height: 1.2em;}#sk-container-id-2 div.sk-label-container {text-align: center;}#sk-container-id-2 div.sk-container {/* jupyter's `normalize.less` sets `[hidden] { display: none; }` but bootstrap.min.css set `[hidden] { display: none !important; }` so we also need the `!important` here to be able to override the default hidden behavior on the sphinx rendered scikit-learn.org. See: https://github.com/scikit-learn/scikit-learn/issues/21755 */display: inline-block !important;position: relative;}#sk-container-id-2 div.sk-text-repr-fallback {display: none;}</style><div id=\"sk-container-id-2\" class=\"sk-top-container\"><div class=\"sk-text-repr-fallback\"><pre>XGBRegressor(base_score=None, booster=None, callbacks=None,\n",
       "             colsample_bylevel=None, colsample_bynode=None,\n",
       "             colsample_bytree=None, early_stopping_rounds=None,\n",
       "             enable_categorical=False, eval_metric=None, feature_types=None,\n",
       "             gamma=None, gpu_id=None, grow_policy=None, importance_type=None,\n",
       "             interaction_constraints=None, learning_rate=None, max_bin=None,\n",
       "             max_cat_threshold=None, max_cat_to_onehot=None,\n",
       "             max_delta_step=None, max_depth=None, max_leaves=None,\n",
       "             min_child_weight=None, missing=nan, monotone_constraints=None,\n",
       "             n_estimators=100, n_jobs=None, num_parallel_tree=None,\n",
       "             predictor=None, random_state=None, ...)</pre><b>In a Jupyter environment, please rerun this cell to show the HTML representation or trust the notebook. <br />On GitHub, the HTML representation is unable to render, please try loading this page with nbviewer.org.</b></div><div class=\"sk-container\" hidden><div class=\"sk-item\"><div class=\"sk-estimator sk-toggleable\"><input class=\"sk-toggleable__control sk-hidden--visually\" id=\"sk-estimator-id-2\" type=\"checkbox\" checked><label for=\"sk-estimator-id-2\" class=\"sk-toggleable__label sk-toggleable__label-arrow\">XGBRegressor</label><div class=\"sk-toggleable__content\"><pre>XGBRegressor(base_score=None, booster=None, callbacks=None,\n",
       "             colsample_bylevel=None, colsample_bynode=None,\n",
       "             colsample_bytree=None, early_stopping_rounds=None,\n",
       "             enable_categorical=False, eval_metric=None, feature_types=None,\n",
       "             gamma=None, gpu_id=None, grow_policy=None, importance_type=None,\n",
       "             interaction_constraints=None, learning_rate=None, max_bin=None,\n",
       "             max_cat_threshold=None, max_cat_to_onehot=None,\n",
       "             max_delta_step=None, max_depth=None, max_leaves=None,\n",
       "             min_child_weight=None, missing=nan, monotone_constraints=None,\n",
       "             n_estimators=100, n_jobs=None, num_parallel_tree=None,\n",
       "             predictor=None, random_state=None, ...)</pre></div></div></div></div></div>"
      ],
      "text/plain": [
       "XGBRegressor(base_score=None, booster=None, callbacks=None,\n",
       "             colsample_bylevel=None, colsample_bynode=None,\n",
       "             colsample_bytree=None, early_stopping_rounds=None,\n",
       "             enable_categorical=False, eval_metric=None, feature_types=None,\n",
       "             gamma=None, gpu_id=None, grow_policy=None, importance_type=None,\n",
       "             interaction_constraints=None, learning_rate=None, max_bin=None,\n",
       "             max_cat_threshold=None, max_cat_to_onehot=None,\n",
       "             max_delta_step=None, max_depth=None, max_leaves=None,\n",
       "             min_child_weight=None, missing=nan, monotone_constraints=None,\n",
       "             n_estimators=100, n_jobs=None, num_parallel_tree=None,\n",
       "             predictor=None, random_state=None, ...)"
      ]
     },
     "execution_count": 23,
     "metadata": {},
     "output_type": "execute_result"
    }
   ],
   "source": [
    "x = df.iloc[:,:-1]\n",
    "y = df.iloc[:,-1]\n",
    "\n",
    "x_train,x_test,y_train,y_test = train_test_split(x,y,test_size=0.30,random_state=0)\n",
    "\n",
    "knn= KNeighborsRegressor()\n",
    "knn.fit(x_train,y_train)\n",
    "\n",
    "dt= DecisionTreeRegressor()\n",
    "dt.fit(x_train,y_train)\n",
    "\n",
    "en= ElasticNet()\n",
    "en.fit(x_train,y_train)\n",
    "\n",
    "random= RandomForestRegressor()\n",
    "random.fit(x_train,y_train)\n",
    "\n",
    "gd= GradientBoostingRegressor()\n",
    "gd.fit(x_train,y_train)\n",
    "\n",
    "svr= SVR()\n",
    "svr.fit(x_train,y_train)\n",
    "\n",
    "regressor= LinearRegression()\n",
    "\n",
    "regressor.fit(x_train,y_train)\n",
    "\n",
    "br= BayesianRidge()\n",
    "br.fit(x_train,y_train)\n",
    "\n",
    "kr= KernelRidge()\n",
    "kr.fit(x_train,y_train)\n",
    "\n",
    "xgb= XGBRegressor()\n",
    "xgb.fit(x_train,y_train)\n",
    "\n",
    "\n"
   ]
  },
  {
   "cell_type": "code",
   "execution_count": 24,
   "id": "b231e490-08a0-447f-886c-ca915c9982ef",
   "metadata": {},
   "outputs": [],
   "source": [
    "from sklearn.metrics import accuracy_score \n",
    "from sklearn.metrics import confusion_matrix as CM\n",
    "from sklearn.metrics import classification_report\n",
    "\n",
    "from sklearn.metrics import roc_curve\n",
    "from sklearn.metrics import roc_auc_score\n",
    "from sklearn.datasets import make_classification"
   ]
  },
  {
   "cell_type": "code",
   "execution_count": 25,
   "id": "fec5a1fd-583b-4721-8713-9a5e3d253436",
   "metadata": {},
   "outputs": [
    {
     "name": "stdout",
     "output_type": "stream",
     "text": [
      "     Gerçek_Not  Tahmin_Not  Tahmin_Not_55  Tahmin_Not_5  bool1\n",
      "379        66.0        74.0           64.0          84.0   True\n",
      "633        61.0        64.0           54.0          74.0   True\n",
      "77         73.0        77.0           67.0          87.0   True\n",
      "691        72.0        74.0           64.0          84.0   True\n",
      "320        67.0        75.0           65.0          85.0   True\n",
      "..          ...         ...            ...           ...    ...\n",
      "128        69.0        68.0           58.0          78.0   True\n",
      "819        64.0        57.0           47.0          67.0   True\n",
      "241        66.0        73.0           63.0          83.0   True\n",
      "236        75.0        69.0           59.0          79.0   True\n",
      "419        60.0        54.0           44.0          64.0   True\n",
      "\n",
      "[106 rows x 5 columns]\n",
      "False    154\n",
      "True     106\n",
      "Name: bool1, dtype: int64\n"
     ]
    }
   ],
   "source": [
    "y_pred = dt.predict(x_test)\n",
    "\n",
    "df2 = pd.DataFrame({'Gerçek_Not' : y_test ,'Tahmin_Not' :y_pred } )\n",
    "\n",
    "df2 = df2.astype({\"Gerçek_Not\":'float',\n",
    "                \"Tahmin_Not\":'float'\n",
    "                })\n",
    "\n",
    "df2['Tahmin_Not_55'] = df2[['Tahmin_Not']] -10\n",
    "\n",
    "df2['Tahmin_Not_5'] = df2[['Tahmin_Not']] + 10\n",
    "df2\n",
    "\n",
    "df2['bool1'] =  np.where((df2['Gerçek_Not'] >= df2['Tahmin_Not_55']) &(df2['Gerçek_Not'] <= df2['Tahmin_Not_5']) & (df2['Gerçek_Not'] <= 80) & (df2['Gerçek_Not'] >= 60) & (df2['Tahmin_Not'] <= 80) , True, False)\n",
    "\n",
    "dogru_sayisi1 = df2[df2.bool1 == True]\n",
    "\n",
    "print(dogru_sayisi1)\n",
    "\n",
    "count1 = df2['bool1'].value_counts()\n",
    "print (count1)\n",
    "\n"
   ]
  },
  {
   "cell_type": "code",
   "execution_count": 26,
   "id": "2ac004d6-2cea-46e2-ab65-8c86bc8306fe",
   "metadata": {},
   "outputs": [
    {
     "name": "stdout",
     "output_type": "stream",
     "text": [
      "     Gerçek_Not  Tahmin_Not  Tahmin_Not_55  Tahmin_Not_5  bool1\n",
      "633        61.0        68.4           58.4          78.4   True\n",
      "77         73.0        76.0           66.0          86.0   True\n",
      "691        72.0        73.8           63.8          83.8   True\n",
      "478        66.0        74.0           64.0          84.0   True\n",
      "254        65.0        66.8           56.8          76.8   True\n",
      "..          ...         ...            ...           ...    ...\n",
      "128        69.0        69.0           59.0          79.0   True\n",
      "241        66.0        72.8           62.8          82.8   True\n",
      "808        62.0        60.4           50.4          70.4   True\n",
      "236        75.0        72.8           62.8          82.8   True\n",
      "419        60.0        62.4           52.4          72.4   True\n",
      "\n",
      "[125 rows x 5 columns]\n",
      "False    135\n",
      "True     125\n",
      "Name: bool1, dtype: int64\n"
     ]
    }
   ],
   "source": [
    "y_pred = knn.predict(x_test)\n",
    "\n",
    "df3 = pd.DataFrame({'Gerçek_Not' : y_test ,'Tahmin_Not' :y_pred } )\n",
    "\n",
    "df3 = df3.astype({\"Gerçek_Not\":'float',\n",
    "                \"Tahmin_Not\":'float'\n",
    "                })\n",
    "\n",
    "df3['Tahmin_Not_55'] = df3[['Tahmin_Not']] -10\n",
    "\n",
    "df3['Tahmin_Not_5'] = df3[['Tahmin_Not']] + 10\n",
    "\n",
    "df3\n",
    "\n",
    "df3['bool1'] =  np.where((df3['Gerçek_Not'] >= df3['Tahmin_Not_55']) &(df3['Gerçek_Not'] <= df3['Tahmin_Not_5']) & (df3['Gerçek_Not'] <= 80) & (df3['Gerçek_Not'] >= 60) & (df3['Tahmin_Not'] <= 80)  , True, False)\n",
    "\n",
    "dogru_sayisi1 = df3[df3.bool1 == True]\n",
    "\n",
    "print(dogru_sayisi1)\n",
    "\n",
    "count1 = df3['bool1'].value_counts()\n",
    "print (count1)\n"
   ]
  },
  {
   "cell_type": "code",
   "execution_count": 27,
   "id": "289c09a4-3b83-4da4-90a5-206f489d4e6b",
   "metadata": {},
   "outputs": [
    {
     "name": "stdout",
     "output_type": "stream",
     "text": [
      "     Gerçek_Not  Tahmin_Not  Tahmin_Not_55  Tahmin_Not_5  bool1\n",
      "633        61.0      68.505         58.505        78.505   True\n",
      "77         73.0      74.480         64.480        84.480   True\n",
      "691        72.0      76.470         66.470        86.470   True\n",
      "320        67.0      75.240         65.240        85.240   True\n",
      "254        65.0      61.090         51.090        71.090   True\n",
      "..          ...         ...            ...           ...    ...\n",
      "128        69.0      65.810         55.810        75.810   True\n",
      "819        64.0      71.280         61.280        81.280   True\n",
      "241        66.0      59.050         49.050        69.050   True\n",
      "236        75.0      66.570         56.570        76.570   True\n",
      "419        60.0      55.060         45.060        65.060   True\n",
      "\n",
      "[115 rows x 5 columns]\n",
      "False    145\n",
      "True     115\n",
      "Name: bool1, dtype: int64\n"
     ]
    }
   ],
   "source": [
    "y_pred = random.predict(x_test)\n",
    "\n",
    "df4 = pd.DataFrame({'Gerçek_Not' : y_test ,'Tahmin_Not' :y_pred } )\n",
    "\n",
    "df4 = df4.astype({\"Gerçek_Not\":'float',\n",
    "                \"Tahmin_Not\":'float'\n",
    "                })\n",
    "\n",
    "df4['Tahmin_Not_55'] = df4[['Tahmin_Not']] -10\n",
    "\n",
    "df4['Tahmin_Not_5'] = df4[['Tahmin_Not']] + 10\n",
    "\n",
    "\n",
    "\n",
    "df4['bool1'] =  np.where((df4['Gerçek_Not'] >= df4['Tahmin_Not_55']) &(df4['Gerçek_Not'] <= df4['Tahmin_Not_5'] ) & (df4['Gerçek_Not'] <= 80) & (df4['Gerçek_Not'] >= 60) & (df4['Tahmin_Not'] <= 80) , True, False)\n",
    "\n",
    "dogru_sayisi1 = df4[df4.bool1 == True]\n",
    "\n",
    "print(dogru_sayisi1)\n",
    "\n",
    "count1 = df4['bool1'].value_counts()\n",
    "print (count1)\n"
   ]
  },
  {
   "cell_type": "code",
   "execution_count": 28,
   "id": "19c2b921-eb87-4cdd-951c-509f5d0bac93",
   "metadata": {},
   "outputs": [
    {
     "name": "stdout",
     "output_type": "stream",
     "text": [
      "     Gerçek_Not  Tahmin_Not  Tahmin_Not_55  Tahmin_Not_5  bool1\n",
      "633        61.0   67.311500      57.311500     77.311500   True\n",
      "77         73.0   74.775660      64.775660     84.775660   True\n",
      "691        72.0   75.550413      65.550413     85.550413   True\n",
      "478        66.0   75.556474      65.556474     85.556474   True\n",
      "254        65.0   63.722140      53.722140     73.722140   True\n",
      "..          ...         ...            ...           ...    ...\n",
      "128        69.0   69.151109      59.151109     79.151109   True\n",
      "241        66.0   60.445213      50.445213     70.445213   True\n",
      "808        62.0   54.161303      44.161303     64.161303   True\n",
      "236        75.0   71.325055      61.325055     81.325055   True\n",
      "419        60.0   58.354654      48.354654     68.354654   True\n",
      "\n",
      "[121 rows x 5 columns]\n",
      "False    139\n",
      "True     121\n",
      "Name: bool1, dtype: int64\n"
     ]
    }
   ],
   "source": [
    "y_pred = gd.predict(x_test)\n",
    "\n",
    "df5 = pd.DataFrame({'Gerçek_Not' : y_test ,'Tahmin_Not' :y_pred } )\n",
    "\n",
    "df5 = df5.astype({\"Gerçek_Not\":'float',\n",
    "                \"Tahmin_Not\":'float'\n",
    "                })\n",
    "\n",
    "df5['Tahmin_Not_55'] = df5[['Tahmin_Not']] -10\n",
    "\n",
    "df5['Tahmin_Not_5'] = df5[['Tahmin_Not']] + 10\n",
    "\n",
    "\n",
    "\n",
    "df5['bool1'] =  np.where((df5['Gerçek_Not'] >= df5['Tahmin_Not_55']) &(df5['Gerçek_Not'] <= df5['Tahmin_Not_5'] ) & (df5['Gerçek_Not'] <= 80) & (df5['Gerçek_Not'] >= 60) & (df5['Tahmin_Not'] <= 80) , True, False)\n",
    "\n",
    "dogru_sayisi1 = df5[df5.bool1 == True]\n",
    "\n",
    "print(dogru_sayisi1)\n",
    "count1 = df5['bool1'].value_counts()\n",
    "print (count1)\n"
   ]
  },
  {
   "cell_type": "code",
   "execution_count": 29,
   "id": "0eaec86b-0d00-4bbf-9c21-da0683eae48c",
   "metadata": {},
   "outputs": [
    {
     "name": "stdout",
     "output_type": "stream",
     "text": [
      "     Gerçek_Not  Tahmin_Not  Tahmin_Not_55  Tahmin_Not_5  bool1\n",
      "379        66.0   75.041935      65.041935     85.041935   True\n",
      "633        61.0   70.880883      60.880883     80.880883   True\n",
      "77         73.0   73.115861      63.115861     83.115861   True\n",
      "691        72.0   71.967658      61.967658     81.967658   True\n",
      "320        67.0   75.284212      65.284212     85.284212   True\n",
      "..          ...         ...            ...           ...    ...\n",
      "128        69.0   73.419306      63.419306     83.419306   True\n",
      "819        64.0   72.364504      62.364504     82.364504   True\n",
      "241        66.0   73.524641      63.524641     83.524641   True\n",
      "808        62.0   71.035798      61.035798     81.035798   True\n",
      "236        75.0   73.854756      63.854756     83.854756   True\n",
      "\n",
      "[142 rows x 5 columns]\n",
      "True     142\n",
      "False    118\n",
      "Name: bool1, dtype: int64\n"
     ]
    }
   ],
   "source": [
    "y_pred = svr.predict(x_test)\n",
    "\n",
    "df200 = pd.DataFrame({'Gerçek_Not' : y_test ,'Tahmin_Not' :y_pred } )\n",
    "\n",
    "df200 = df200.astype({\"Gerçek_Not\":'float',\n",
    "                \"Tahmin_Not\":'float'\n",
    "                })\n",
    "\n",
    "df200['Tahmin_Not_55'] = df200[['Tahmin_Not']] -10\n",
    "\n",
    "df200['Tahmin_Not_5'] = df200[['Tahmin_Not']] + 10\n",
    "\n",
    "\n",
    "\n",
    "df200['bool1'] =  np.where((df200['Gerçek_Not'] >= df200['Tahmin_Not_55']) &(df200['Gerçek_Not'] <= df200['Tahmin_Not_5'] ) & (df200['Gerçek_Not'] <= 80) & (df200['Gerçek_Not'] >= 60) & (df200['Tahmin_Not'] <= 80) , True, False)\n",
    "\n",
    "dogru_sayisi1 = df200[df200.bool1 == True]\n",
    "\n",
    "print(dogru_sayisi1)\n",
    "count1 = df200['bool1'].value_counts()\n",
    "print (count1)\n"
   ]
  },
  {
   "cell_type": "code",
   "execution_count": 30,
   "id": "40cc61ac-111e-4fd8-a6ec-321582283dae",
   "metadata": {},
   "outputs": [
    {
     "name": "stdout",
     "output_type": "stream",
     "text": [
      "     Gerçek_Not  Tahmin_Not  Tahmin_Not_55  Tahmin_Not_5  bool1\n",
      "633        61.0   64.082420      54.082420     74.082420   True\n",
      "77         73.0   75.910855      65.910855     85.910855   True\n",
      "691        72.0   79.846003      69.846003     89.846003   True\n",
      "254        65.0   61.934729      51.934729     71.934729   True\n",
      "751        73.0   72.442495      62.442495     82.442495   True\n",
      "..          ...         ...            ...           ...    ...\n",
      "688        73.0   68.544099      58.544099     78.544099   True\n",
      "128        69.0   68.964259      58.964259     78.964259   True\n",
      "241        66.0   56.310020      46.310020     66.310020   True\n",
      "808        62.0   54.890645      44.890645     64.890645   True\n",
      "419        60.0   58.962396      48.962396     68.962396   True\n",
      "\n",
      "[120 rows x 5 columns]\n",
      "False    140\n",
      "True     120\n",
      "Name: bool1, dtype: int64\n"
     ]
    }
   ],
   "source": [
    "y_pred = en.predict(x_test)\n",
    "\n",
    "df7 = pd.DataFrame({'Gerçek_Not' : y_test ,'Tahmin_Not' :y_pred } )\n",
    "\n",
    "df7 = df7.astype({\"Gerçek_Not\":'float',\n",
    "                \"Tahmin_Not\":'float'\n",
    "                })\n",
    "\n",
    "df7['Tahmin_Not_55'] = df7[['Tahmin_Not']] -10\n",
    "\n",
    "df7['Tahmin_Not_5'] = df7[['Tahmin_Not']] + 10\n",
    "\n",
    "\n",
    "\n",
    "df7['bool1'] =  np.where((df7['Gerçek_Not'] >= df7['Tahmin_Not_55']) &(df7['Gerçek_Not'] <= df7['Tahmin_Not_5'] ) & (df7['Gerçek_Not'] <= 80) & (df7['Gerçek_Not'] >= 60) & (df7['Tahmin_Not'] <= 80) , True, False)\n",
    "\n",
    "dogru_sayisi1 = df7[df7.bool1 == True]\n",
    "\n",
    "print(dogru_sayisi1)\n",
    "\n",
    "count1 = df7['bool1'].value_counts()\n",
    "print (count1)\n"
   ]
  },
  {
   "cell_type": "code",
   "execution_count": 31,
   "id": "ca89817a-c88b-40ee-b59f-53d1798c6bab",
   "metadata": {},
   "outputs": [
    {
     "name": "stdout",
     "output_type": "stream",
     "text": [
      "     Gerçek_Not  Tahmin_Not  Tahmin_Not_55  Tahmin_Not_5  bool1\n",
      "633        61.0   63.790895      53.790895     73.790895   True\n",
      "77         73.0   76.052626      66.052626     86.052626   True\n",
      "254        65.0   61.022641      51.022641     71.022641   True\n",
      "751        73.0   72.758824      62.758824     82.758824   True\n",
      "142        62.0   65.581095      55.581095     75.581095   True\n",
      "..          ...         ...            ...           ...    ...\n",
      "158        69.0   69.227372      59.227372     79.227372   True\n",
      "688        73.0   68.775617      58.775617     78.775617   True\n",
      "128        69.0   68.288258      58.288258     78.288258   True\n",
      "808        62.0   53.980001      43.980001     63.980001   True\n",
      "419        60.0   57.686910      47.686910     67.686910   True\n",
      "\n",
      "[112 rows x 5 columns]\n",
      "False    148\n",
      "True     112\n",
      "Name: bool1, dtype: int64\n"
     ]
    }
   ],
   "source": [
    "y_pred = kr.predict(x_test)\n",
    "\n",
    "df10 = pd.DataFrame({'Gerçek_Not' : y_test ,'Tahmin_Not' :y_pred } )\n",
    "\n",
    "df10 = df10.astype({\"Gerçek_Not\":'float',\n",
    "                \"Tahmin_Not\":'float'\n",
    "                })\n",
    "\n",
    "df10['Tahmin_Not_55'] = df10[['Tahmin_Not']] -10\n",
    "\n",
    "df10['Tahmin_Not_5'] = df10[['Tahmin_Not']] + 10\n",
    "\n",
    "\n",
    "\n",
    "df10['bool1'] =  np.where((df10['Gerçek_Not'] >= df10['Tahmin_Not_55']) &(df10['Gerçek_Not'] <= df10['Tahmin_Not_5'] ) & (df10['Gerçek_Not'] <= 80) & (df10['Gerçek_Not'] >= 60) & (df10['Tahmin_Not'] <= 80)  , True, False)\n",
    "\n",
    "dogru_sayisi1 = df10[df10.bool1 == True]\n",
    "\n",
    "print(dogru_sayisi1)\n",
    "count1 = df10['bool1'].value_counts()\n",
    "print (count1)\n"
   ]
  },
  {
   "cell_type": "code",
   "execution_count": 32,
   "id": "29688b31-2226-4a37-97bc-b7cd20e438cc",
   "metadata": {},
   "outputs": [
    {
     "name": "stdout",
     "output_type": "stream",
     "text": [
      "     Gerçek_Not  Tahmin_Not  Tahmin_Not_55  Tahmin_Not_5  bool1\n",
      "633        61.0   67.237320      57.237320     77.237320   True\n",
      "77         73.0   77.123878      67.123878     87.123878   True\n",
      "691        72.0   74.282074      64.282074     84.282074   True\n",
      "320        67.0   75.757370      65.757370     85.757370   True\n",
      "478        66.0   74.962166      64.962166     84.962166   True\n",
      "..          ...         ...            ...           ...    ...\n",
      "819        64.0   68.918571      58.918571     78.918571   True\n",
      "241        66.0   67.206253      57.206253     77.206253   True\n",
      "808        62.0   54.741909      44.741909     64.741909   True\n",
      "236        75.0   73.460541      63.460541     83.460541   True\n",
      "419        60.0   64.940063      54.940063     74.940063   True\n",
      "\n",
      "[113 rows x 5 columns]\n",
      "False    147\n",
      "True     113\n",
      "Name: bool1, dtype: int64\n"
     ]
    }
   ],
   "source": [
    "y_pred = xgb.predict(x_test)\n",
    "\n",
    "df11 = pd.DataFrame({'Gerçek_Not' : y_test ,'Tahmin_Not' :y_pred } )\n",
    "\n",
    "df11 = df11.astype({\"Gerçek_Not\":'float',\n",
    "                \"Tahmin_Not\":'float'\n",
    "                })\n",
    "\n",
    "df11['Tahmin_Not_55'] = df11[['Tahmin_Not']] -10\n",
    "\n",
    "df11['Tahmin_Not_5'] = df11[['Tahmin_Not']] + 10\n",
    "\n",
    "\n",
    "\n",
    "df11['bool1'] =  np.where((df11['Gerçek_Not'] >= df11['Tahmin_Not_55']) &(df11['Gerçek_Not'] <= df11['Tahmin_Not_5'])  & (df11['Gerçek_Not'] <= 80) & (df11['Gerçek_Not'] >= 60) & (df11['Tahmin_Not'] <= 80)   , True, False)\n",
    "\n",
    "dogru_sayisi1 = df11[df11.bool1 == True]\n",
    "\n",
    "print(dogru_sayisi1)\n",
    "\n",
    "count1 = df11['bool1'].value_counts()\n",
    "print (count1)\n"
   ]
  },
  {
   "cell_type": "code",
   "execution_count": 33,
   "id": "520b6d95-2dc9-4043-9bc3-2ba317872d71",
   "metadata": {},
   "outputs": [
    {
     "name": "stdout",
     "output_type": "stream",
     "text": [
      "     Gerçek_Not  Tahmin_Not  Tahmin_Not_55  Tahmin_Not_5  bool1\n",
      "633        61.0   64.069184      54.069184     74.069184   True\n",
      "77         73.0   75.930634      65.930634     85.930634   True\n",
      "691        72.0   79.874140      69.874140     89.874140   True\n",
      "254        65.0   61.905607      51.905607     71.905607   True\n",
      "751        73.0   72.452560      62.452560     82.452560   True\n",
      "..          ...         ...            ...           ...    ...\n",
      "688        73.0   68.551103      58.551103     78.551103   True\n",
      "128        69.0   68.949291      58.949291     78.949291   True\n",
      "241        66.0   56.249650      46.249650     66.249650   True\n",
      "808        62.0   54.846757      44.846757     64.846757   True\n",
      "419        60.0   58.914636      48.914636     68.914636   True\n",
      "\n",
      "[119 rows x 5 columns]\n",
      "False    141\n",
      "True     119\n",
      "Name: bool1, dtype: int64\n",
      "     Gerçek_Not  Tahmin_Not  Tahmin_Not_55  Tahmin_Not_5  bool1  kontrol\n",
      "379        66.0   79.791692      69.791692     89.791692  False     True\n",
      "633        61.0   64.069184      54.069184     74.069184   True     True\n",
      "77         73.0   75.930634      65.930634     85.930634   True     True\n",
      "691        72.0   79.874140      69.874140     89.874140   True     True\n",
      "320        67.0   78.425548      68.425548     88.425548  False     True\n",
      "..          ...         ...            ...           ...    ...      ...\n",
      "819        64.0   75.417177      65.417177     85.417177  False     True\n",
      "241        66.0   56.249650      46.249650     66.249650   True     True\n",
      "808        62.0   54.846757      44.846757     64.846757   True     True\n",
      "236        75.0   60.949109      50.949109     70.949109  False     True\n",
      "419        60.0   58.914636      48.914636     68.914636   True     True\n",
      "\n",
      "[159 rows x 6 columns]\n",
      "True     159\n",
      "False    101\n",
      "Name: kontrol, dtype: int64\n"
     ]
    }
   ],
   "source": [
    "y_pred = br.predict(x_test)\n",
    "\n",
    "df9 = pd.DataFrame({'Gerçek_Not' : y_test ,'Tahmin_Not' :y_pred  } )\n",
    "\n",
    "df9 = df9.astype({\"Gerçek_Not\":'float',\n",
    "                \"Tahmin_Not\":'float'\n",
    "                })\n",
    "\n",
    "df9['Tahmin_Not_55'] = df9[['Tahmin_Not']] -10\n",
    "\n",
    "df9['Tahmin_Not_5'] = df9[['Tahmin_Not']] + 10\n",
    "\n",
    "\n",
    "\n",
    "#df9['bool1'] =  np.where(( df9['Tahmin_Not'] > 90 ) & (100 > df9['Tahmin_Not'] ) & (df9['Gerçek_Not'] > df9['Tahmin_Not_55']) &(df9['Gerçek_Not'] < df9['Tahmin_Not_5'] )  , True, False)\n",
    "\n",
    "df9['bool1'] =  np.where((df9['Gerçek_Not'] >= df9['Tahmin_Not_55']) &(df9['Gerçek_Not'] <= df9['Tahmin_Not_5']) & (df9['Gerçek_Not'] <= 80) & (df9['Gerçek_Not'] >= 60) & (df9['Tahmin_Not'] <= 80) , True, False)\n",
    "\n",
    "dogru_sayisi1 = df9[df9.bool1 == True]\n",
    "\n",
    "print(dogru_sayisi1)\n",
    "\n",
    "count1 = df9['bool1'].value_counts()\n",
    "print (count1)\n",
    "\n",
    "\n",
    "#df['bool2'] =  np.where((df['VZ1'] >= 91 ) &(df['VZ1'] <= 92 )  , True, False)\n",
    "\n",
    "#dogru_sayisi2 = df[df.bool2 == True]\n",
    "\n",
    "df9['kontrol'] = np.where((df9['Gerçek_Not'] <= 80) & (df9['Gerçek_Not'] >= 60) , True, False)\n",
    "dogru_sayisi2 = df9[df9.kontrol == True]\n",
    "\n",
    "print(dogru_sayisi2)\n",
    "\n",
    "count2 = df9['kontrol'].value_counts()\n",
    "print (count2)\n",
    "#count = df['bool2'].value_counts()\n",
    "#print (count)\n",
    "\n",
    "#df.merge(df9)\n",
    "\n",
    "#print(df)\n",
    "\n",
    "# + - 12.5 için 100 doğru tahmin - 260 sonuc içinde %38,4615 doğru sonuc 75-100 arası alan öğrenciler için\n",
    "# + - 12.5 için 120 doğru tahmin - 260 sonuc içinde %46,1538 doğru sonuc 50-75 arası alan öğrenciler için\n",
    "# + - 12.5 için 8 doğru tahmin - 260 sonuc içinde %3,0769 doğru sonuc 25-50 arası alan öğrenciler için\n",
    "# + - 12.5 için 0 doğru tahmin - 260 sonuc içinde %0 doğru sonuc 0-25 arası alan öğrenciler için\n",
    "# Toplam %89.62 notları tutturmuştur.\n",
    "\n",
    "# 4. Grup (75-100) için en fazla %91.94 tahmin edilebilir. p1= 8.9278 p2 = 10  yani 100 alan öğrenci için konuşmaktayız. \n",
    "# 3. Grup (50-75) için en fazla %91.33 tahmin edilebilir. p1= 8.9278 p2 = 10  yani 100 alan öğrenci için konuşmaktayız.\n",
    "# 2. Grup (25-50) için en fazla %90.15 tahmin edilebilir. p1= 8.9278 p2 = 10  yani 100 alan öğrenci için konuşmaktayız.\n",
    "# 1. Grup (0-25) için en fazla %89.4 tahmin edilebilir. p1= 8.9278 p2 = 10  yani 100 alan öğrenci için konuşmaktayız.\n",
    "\n",
    "# Görüldüğü üzere 100 ' lük öğrencinin 0 -25 arası alma olasılığı düşük çıkmıştır. %89.4 \n",
    "\n",
    "\n",
    "\n",
    "\n",
    "#90-100 arası %30  ( 3 kişi Doğru 7 Kişi yanlış)\n",
    "#80-90 arası %50  (33 kişi doğru 66 kişi yanlış)\n",
    "\n",
    "#70-80 arası %64,21 (61 kişi doğru 95 kişi yanlış)\n",
    "#60-70 arası %47,05 (32 kişi doğru 68 kişi yanlış)\n",
    "\n",
    "# VZ1 DEN 70 alan öğrenci 6.2496 ağırlığındadır. 6 lık kapıyı geçip 7 lik kapıya adaydır. 60-70 puan aralığı olan 7. kategoride değerlendirilir.\n",
    "\n",
    "# VZ1 DEN 80 alan öğrenci 7.1424 ağırlığındadır. 7 lik kapıyı geçip 8 lik kapıya adaydır. 70-80 puan aralığı olan 8. kategoride değerlendirilir.\n",
    "\n",
    "# 60 - 80 arası 93 kişi doğru - 163 kişi yanlış  total = 256 kişi ve %36,32 doğru sonuç tutturmuştur.\n",
    "\n",
    "\n",
    "\n",
    "#50-60 arası %33,33 (10 kişi doğru 30 kişi yanlış)\n",
    "#40-50 arası %33,33 (3 kişi doğru 8 kişi yanlış)\n",
    "#30-40 arası %33,33 (1 kişi doğru 0 kişi yanlış)\n",
    "#20-30 arası %33,33 (0 kişi doğru 1 kişi yanlış)\n",
    "#10-20 arası %33,33 (0 kişi doğru 0 kişi yanlış)\n",
    "#0-10 arası %33,33 (0 kişi doğru 0 kişi yanlış)\n",
    "\n",
    "#En fazla toplam Doğru 93 kişi 101 yanlış % 56,60 toplam doğru sonucu vermiştir.\n",
    "# 60 - 80 arası %58.49 (159 kişi 60 ile 80 arası not almış - 93 doğru war )\n",
    "\n",
    "# 60 - 80 arası %58.49 (159 kişi 60 ile 80 arası not almış - 93 doğru war )\n",
    "\n",
    "# %59.51 (%25.43)  - % 79.56 ( % 30.29) arasında %55,72 (+1 -1 oynama payı veriyor noktayı koyuyoruz.)"
   ]
  },
  {
   "cell_type": "code",
   "execution_count": 34,
   "id": "dc4ecc72-03c9-4201-8fff-d225f60446c8",
   "metadata": {},
   "outputs": [
    {
     "name": "stdout",
     "output_type": "stream",
     "text": [
      "0.162307404\n",
      "0.14781292719999997\n",
      "0.13292816959999998\n",
      "0.1176531312\n",
      "0.101987812\n",
      "0.07303178699999999\n",
      "0.061266059199999987\n",
      "0.04806679999999999\n",
      "0.0355215828\n",
      "0.0179059318\n",
      "0.8984816047999997\n",
      "0.31012033119999993\n"
     ]
    }
   ],
   "source": [
    "\n",
    "\n",
    "sonuc100 = 0.1818 + ((0.1818 * (((8.9278/10)-1)/10)) * 10)\n",
    "sonuc90 = 0.1636 + ((0.1636 * (((8.9278/10)-1)/10)) * 9)\n",
    "sonuc80 =    0.1454 + ((0.1454 * (((8.9278/10)-1)/10)) * 8)\n",
    "sonuc70 = 0.1272 + ((0.1272 * (((8.9278/10)-1)/10)) * 7 )\n",
    "sonuc60 = 0.109+ (( 0.109 * (((8.9278/10)-1)/10))*6)\n",
    "sonuc50 = 0.0909+ (( 0.3333 * (((8.9278/10)-1)/10))*5)\n",
    "#sonuc5 = 0.3333 + ((0.3333 * (((8.9278/10)-1)/10)) * 5)\n",
    "sonuc40 = 0.0727 + ((0.2666 * (((8.9278/10)-1)/10)) * 4)\n",
    "sonuc30 =    0.0545 + ((0.2 * (((8.9278/10)-1)/10)) * 3)\n",
    "sonuc20 = 0.0363 + ((0.0363 * (((8.9278/10)-1)/10)) * 2 )\n",
    "sonuc10 = 0.0181+ (( 0.0181 * (((8.9278/10)-1)/10))*1)\n",
    "\n",
    "\n",
    "\n",
    "print(sonuc100)\n",
    "print(sonuc90)\n",
    "print(sonuc80)\n",
    "print(sonuc70)\n",
    "print(sonuc60)\n",
    "print(sonuc50)\n",
    "print(sonuc40)\n",
    "print(sonuc30)\n",
    "print(sonuc20)\n",
    "print(sonuc10)\n",
    "\n",
    "\n",
    "print(sonuc100 + sonuc90 + sonuc80 + sonuc70 + sonuc60 + sonuc50 + sonuc40 + sonuc30 + sonuc20 + sonuc10)\n",
    "\n",
    "print(sonuc90 + sonuc100)"
   ]
  },
  {
   "cell_type": "code",
   "execution_count": 35,
   "id": "d9e84023-5e0b-4799-b4da-a3cb14cd4ccb",
   "metadata": {},
   "outputs": [
    {
     "name": "stdout",
     "output_type": "stream",
     "text": [
      "0.160704\n",
      "0.14666489244444444\n",
      "0.13173683555555554\n",
      "0.11583947733333333\n",
      "0.09897281777777778\n",
      "0.08104558933333333\n",
      "0.06223814400000001\n",
      "0.04246139733333334\n",
      "0.021715349333333335\n",
      "0.861378503111111\n",
      "0.30736889244444443\n"
     ]
    }
   ],
   "source": [
    "\n",
    "sonuc90 = 0.2 + ((0.2 * (((8.0352/10)-1)/9)) * 9)\n",
    "sonuc80 =    0.1777 + ((0.1777 * (((8.0352/10)-1)/9)) * 8)\n",
    "sonuc70 = 0.1555 + ((0.1555 * (((8.0352/10)-1)/9)) * 7 )\n",
    "sonuc60 = 0.1333+ (( 0.1333 * (((8.0352/10)-1)/9))*6)\n",
    "sonuc50 = 0.1111+ (( 0.1111 * (((8.0352/10)-1)/9))*5)\n",
    "sonuc40 = 0.0888 + ((0.0888 * (((8.0352/10)-1)/9)) * 4)\n",
    "sonuc30 =    0.0666 + ((0.0666 * (((8.0352/10)-1)/9)) * 3)\n",
    "sonuc20 = 0.0444 + ((0.0444 * (((8.0352/10)-1)/9)) * 2 )\n",
    "sonuc10 = 0.0222+ (( 0.0222 * (((8.0352/10)-1)/9))*1)\n",
    "\n",
    "\n",
    "\n",
    "\n",
    "print(sonuc90)\n",
    "print(sonuc80)\n",
    "print(sonuc70)\n",
    "print(sonuc60)\n",
    "print(sonuc50)\n",
    "print(sonuc40)\n",
    "print(sonuc30)\n",
    "print(sonuc20)\n",
    "print(sonuc10)\n",
    "\n",
    "sonuc = sonuc90 + sonuc80 + sonuc70 + sonuc60 + sonuc50 + sonuc40 + sonuc30 + sonuc20 + sonuc10 \n",
    "\n",
    "sonuc2 = sonuc90 + sonuc80 \n",
    "print(sonuc)\n",
    "print(sonuc2)"
   ]
  },
  {
   "cell_type": "code",
   "execution_count": 36,
   "id": "3f5b9b8c-2945-4500-b173-0a3372de214b",
   "metadata": {},
   "outputs": [
    {
     "name": "stdout",
     "output_type": "stream",
     "text": [
      "0.15713280000000002\n",
      "0.145792224\n",
      "0.130894288\n",
      "0.11401032\n",
      "0.095226032\n",
      "0.074373572\n",
      "0.05153508\n",
      "0.026710556\n",
      "0.7956748720000001\n",
      "0.302925024\n",
      "0.15713280000000002\n"
     ]
    }
   ],
   "source": [
    "\n",
    "sonuc80 = 0.22 + ((0.22 * (((7.1424/10)-1)/8)) * 8 )\n",
    "sonuc70 = 0.1944+ (( 0.1944 * (((7.1424/10)-1)/8))*7)\n",
    "sonuc60 = 0.1666+ (( 0.1666 * (((7.1424/10)-1)/8))*6)\n",
    "\n",
    "\n",
    "sonuc50 = 0.1388 + ((0.1388 * (((7.1424/10)-1)/8)) * 5)\n",
    "sonuc40 =    0.1111 + ((0.1111 * (((7.1424/10)-1)/8)) * 4)\n",
    "sonuc30 = 0.0833 + ((0.0833 * (((7.1424/10)-1)/8)) * 3 )\n",
    "sonuc20 = 0.0555+ (( 0.0555 * (((7.1424/10)-1)/8))*2)\n",
    "sonuc10 = 0.0277+ (( 0.0277 * (((7.1424/10)-1)/8))*1)\n",
    "\n",
    "sonuc55 = sonuc80 + sonuc70 + sonuc60 + sonuc50 + sonuc40 + sonuc30 + sonuc20 + sonuc10 \n",
    "\n",
    "sonuc56 = sonuc80 + sonuc70 \n",
    "\n",
    "sonuc57 = sonuc80 \n",
    "\n",
    "print(sonuc80) \n",
    "print(sonuc70) \n",
    "print(sonuc60) \n",
    "print(sonuc50) \n",
    "print(sonuc40) \n",
    "print(sonuc30) \n",
    "print(sonuc20) \n",
    "print(sonuc10)\n",
    "\n",
    "\n",
    "print(sonuc55) \n",
    "\n",
    "print(sonuc56) \n",
    "\n",
    "print(sonuc57) "
   ]
  },
  {
   "cell_type": "code",
   "execution_count": 37,
   "id": "e7b4c76c-bc84-40b1-bf82-107f8a8e6c5b",
   "metadata": {},
   "outputs": [
    {
     "name": "stdout",
     "output_type": "stream",
     "text": [
      "0.15624\n",
      "0.145342656\n",
      "0.13068239999999998\n",
      "0.112196736\n",
      "0.089885664\n",
      "0.063749184\n",
      "0.033787296\n",
      "0.7318839359999999\n",
      "0.301582656\n"
     ]
    }
   ],
   "source": [
    "sonuc70 = 0.25+ (( 0.25 * (((6.2496/10)-1)/7))*7)\n",
    "sonuc60 = 0.2142+ (( 0.2142 * (((6.2496/10)-1)/7))*6)\n",
    "\n",
    "\n",
    "sonuc50 = 0.1785 + ((0.1785 * (((6.2496/10)-1)/7)) * 5)\n",
    "sonuc40 =    0.1428 + ((0.1428 * (((6.2496/10)-1)/7)) * 4)\n",
    "sonuc30 = 0.1071 + ((0.1071 * (((6.2496/10)-1)/7)) * 3 )\n",
    "sonuc20 = 0.0714+ (( 0.0714 * (((6.2496/10)-1)/7))*2)\n",
    "sonuc10 = 0.0357+ (( 0.0357 * (((6.2496/10)-1)/7))*1)\n",
    "\n",
    "sonuc55 =  sonuc70 + sonuc60 + sonuc50 + sonuc40 + sonuc30 + sonuc20 + sonuc10 \n",
    "\n",
    "sonuc56 = sonuc70 + sonuc60 \n",
    "\n",
    "print(sonuc70) \n",
    "print(sonuc60) \n",
    "print(sonuc50) \n",
    "print(sonuc40) \n",
    "print(sonuc30) \n",
    "print(sonuc20) \n",
    "print(sonuc10)\n",
    "\n",
    "\n",
    "print(sonuc55) \n",
    "print(sonuc56) "
   ]
  },
  {
   "cell_type": "code",
   "execution_count": 38,
   "id": "bb0658b0-b609-4e51-a2b1-e0612e63651e",
   "metadata": {},
   "outputs": [
    {
     "name": "stdout",
     "output_type": "stream",
     "text": [
      "0.153043776\n",
      "0.14590986666666667\n",
      "0.13146231466666666\n",
      "0.10964755200000001\n",
      "0.08046557866666668\n",
      "0.04391639466666667\n",
      "0.6644454826666667\n",
      "0.2989536426666667\n"
     ]
    }
   ],
   "source": [
    "# 555555555555 --------6666666666666666\n",
    "sonuc60 = 0.2857+ (( 0.2857 * (((5.3568/10)-1)/6))*6)\n",
    "\n",
    "\n",
    "sonuc50 = 0.238 + ((0.238 * (((5.3568/10)-1)/6)) * 5)\n",
    "sonuc40 =    0.1904 + ((0.1904 * (((5.3568/10)-1)/6)) * 4)\n",
    "sonuc30 = 0.1428 + ((0.1428 * (((5.3568/10)-1)/6)) * 3 )\n",
    "sonuc20 = 0.0952+ (( 0.0952 * (((5.3568/10)-1)/6))*2)\n",
    "sonuc10 = 0.0476+ (( 0.0476 * (((5.3568/10)-1)/6))*1)\n",
    "\n",
    "sonuc55 =   sonuc60 + sonuc50 + sonuc40 + sonuc30 + sonuc20 + sonuc10 \n",
    "\n",
    "sonuc56 = sonuc60 + sonuc50\n",
    "\n",
    "print(sonuc60) \n",
    "print(sonuc50) \n",
    "print(sonuc40) \n",
    "print(sonuc30) \n",
    "print(sonuc20) \n",
    "print(sonuc10)\n",
    "\n",
    "\n",
    "print(sonuc55) \n",
    "print(sonuc56) \n"
   ]
  },
  {
   "cell_type": "code",
   "execution_count": 39,
   "id": "ae1e2437-993a-43d2-97a7-c2e3a05f1087",
   "metadata": {},
   "outputs": [
    {
     "name": "stdout",
     "output_type": "stream",
     "text": [
      "0.14878512\n",
      "0.148528192\n",
      "0.13356800000000002\n",
      "0.103782048\n",
      "0.059226048\n",
      "0.593889408\n",
      "0.297313312\n"
     ]
    }
   ],
   "source": [
    "\n",
    "sonuc50 = 0.3333 + ((0.3333 * (((4.464/10)-1)/5)) * 5)\n",
    "sonuc40 =    0.2666 + ((0.2666 * (((4.464/10)-1)/5)) * 4)\n",
    "sonuc30 = 0.2 + ((0.2 * (((4.464/10)-1)/5)) * 3 )\n",
    "sonuc20 = 0.1333+ (( 0.1333 * (((4.464/10)-1)/5))*2)\n",
    "sonuc10 = 0.0666+ (( 0.0666 * (((4.464/10)-1)/5))*1)\n",
    "sonuc55 =    sonuc50 + sonuc40 + sonuc30 + sonuc20 + sonuc10 \n",
    "\n",
    "sonuc56=  sonuc50 + sonuc40\n",
    " \n",
    "\n",
    "print(sonuc50) \n",
    "print(sonuc40) \n",
    "print(sonuc30) \n",
    "print(sonuc20) \n",
    "print(sonuc10)\n",
    "\n",
    "print(sonuc55)\n",
    "print(sonuc56)"
   ]
  },
  {
   "cell_type": "code",
   "execution_count": 40,
   "id": "1a2ef7f1-b0f5-49c1-a46a-f5dcca9f6f6d",
   "metadata": {},
   "outputs": [
    {
     "data": {
      "text/html": [
       "<div>\n",
       "<style scoped>\n",
       "    .dataframe tbody tr th:only-of-type {\n",
       "        vertical-align: middle;\n",
       "    }\n",
       "\n",
       "    .dataframe tbody tr th {\n",
       "        vertical-align: top;\n",
       "    }\n",
       "\n",
       "    .dataframe thead th {\n",
       "        text-align: right;\n",
       "    }\n",
       "</style>\n",
       "<table border=\"1\" class=\"dataframe\">\n",
       "  <thead>\n",
       "    <tr style=\"text-align: right;\">\n",
       "      <th></th>\n",
       "      <th>grupid</th>\n",
       "      <th>upper</th>\n",
       "      <th>lower</th>\n",
       "    </tr>\n",
       "  </thead>\n",
       "  <tbody>\n",
       "    <tr>\n",
       "      <th>0</th>\n",
       "      <td>10</td>\n",
       "      <td>100.00</td>\n",
       "      <td>87.50</td>\n",
       "    </tr>\n",
       "    <tr>\n",
       "      <th>1</th>\n",
       "      <td>9</td>\n",
       "      <td>89.99</td>\n",
       "      <td>77.14</td>\n",
       "    </tr>\n",
       "    <tr>\n",
       "      <th>2</th>\n",
       "      <td>8</td>\n",
       "      <td>79.99</td>\n",
       "      <td>66.66</td>\n",
       "    </tr>\n",
       "    <tr>\n",
       "      <th>3</th>\n",
       "      <td>7</td>\n",
       "      <td>70.00</td>\n",
       "      <td>56.00</td>\n",
       "    </tr>\n",
       "    <tr>\n",
       "      <th>4</th>\n",
       "      <td>6</td>\n",
       "      <td>60.00</td>\n",
       "      <td>45.00</td>\n",
       "    </tr>\n",
       "    <tr>\n",
       "      <th>5</th>\n",
       "      <td>5</td>\n",
       "      <td>49.99</td>\n",
       "      <td>33.33</td>\n",
       "    </tr>\n",
       "    <tr>\n",
       "      <th>6</th>\n",
       "      <td>4</td>\n",
       "      <td>40.00</td>\n",
       "      <td>20.00</td>\n",
       "    </tr>\n",
       "    <tr>\n",
       "      <th>7</th>\n",
       "      <td>3</td>\n",
       "      <td>30.00</td>\n",
       "      <td>0.00</td>\n",
       "    </tr>\n",
       "    <tr>\n",
       "      <th>8</th>\n",
       "      <td>2</td>\n",
       "      <td>20.00</td>\n",
       "      <td>0.00</td>\n",
       "    </tr>\n",
       "    <tr>\n",
       "      <th>9</th>\n",
       "      <td>1</td>\n",
       "      <td>10.00</td>\n",
       "      <td>0.00</td>\n",
       "    </tr>\n",
       "  </tbody>\n",
       "</table>\n",
       "</div>"
      ],
      "text/plain": [
       "   grupid   upper  lower\n",
       "0      10  100.00  87.50\n",
       "1       9   89.99  77.14\n",
       "2       8   79.99  66.66\n",
       "3       7   70.00  56.00\n",
       "4       6   60.00  45.00\n",
       "5       5   49.99  33.33\n",
       "6       4   40.00  20.00\n",
       "7       3   30.00   0.00\n",
       "8       2   20.00   0.00\n",
       "9       1   10.00   0.00"
      ]
     },
     "execution_count": 40,
     "metadata": {},
     "output_type": "execute_result"
    }
   ],
   "source": [
    "df20 =  pd.read_excel(r\"C:\\Users\\sosma\\Desktop\\genelolasilik.xlsx\")\n",
    "df20.head()\n",
    "df20\n",
    "\n",
    "\n",
    "pd.set_option('display.max_columns', None) \n",
    "\n",
    "df21 =  pd.read_excel(r\"C:\\Users\\sosma\\Desktop\\kategoripuan.xlsx\")\n",
    "df21.head()\n",
    "df21"
   ]
  },
  {
   "cell_type": "code",
   "execution_count": 41,
   "id": "317f2c27-d5c8-4c11-a68c-a31d571c8e5f",
   "metadata": {},
   "outputs": [],
   "source": [
    "#A: Başarı olasılığı\n",
    "#B: Ters orantılı düşüş olasılığı\n",
    "#C: Ters orantılı yükseliş olasılığı\n",
    "#P1: Öğrencinin ilk eğitimden sonra kazandığı varsayılan yükü  = 4\n",
    "#P2: Öğrencinin bir sonraki adımda karşılaştığı sınavın yükü = 6\n",
    "#k: Kaçıncı geçişten geçiyor. = 10\n",
    "#n: Seçilen öğrencinin grubu = 10 \n",
    "\n",
    "\n",
    "#1.Durum: Karşılaşılan yük, sahip olunan yüke eşitse: \n",
    "#A = k/(n*(n+1)/2) ;   A= 10/((10*11)/2) = 10/55 = 0.1818\n",
    "\n",
    "#2.Durum: Ters Orantı Düşüş Formülü (Büyükse):\n",
    "#B= A + A * ((p1/p2 - 1) / n ) * k ;\n",
    "#B= 0.1818+ 0.1818*((4/6 - 1) / 10) *10 = 0.1818-0.06 = 0.1218\n",
    "\n",
    "#3.Durum: Ters Orantı Yükseliş Formülü (Küçükse):\n",
    "#C= A + A * ((p1/p2 - 1) / n ) * (n-k+1); \n",
    "#C = 0.1818+ 0.1818*((6/4 - 1) / 10)*(10-10+1)\n",
    "#C =  0.1818 + 0.1818*(1/20) = 0.1818 + 0.00909 = 0.1908"
   ]
  },
  {
   "cell_type": "code",
   "execution_count": 42,
   "id": "d1228652-1240-4080-b660-cf91a0106509",
   "metadata": {},
   "outputs": [
    {
     "name": "stdout",
     "output_type": "stream",
     "text": [
      "0.14284800000000003\n",
      "0.155352\n",
      "0.135712\n",
      "0.083928\n",
      "0.2982\n"
     ]
    }
   ],
   "source": [
    "sonuc44 = 0.4 + ((0.4 * (((3.5712/10)-1)/4)) * 4)\n",
    "sonuc43 = 0.3 + ((0.3 * (((3.5712/10)-1)/4)) * 3)\n",
    "sonuc42 = 0.2 + ((0.2 * (((3.5712/10)-1)/4)) * 2)\n",
    "sonuc41 = 0.1 + ((0.1 * (((3.5712/10)-1)/4)) * 1)\n",
    "\n",
    "\n",
    "\n",
    "print(sonuc44)\n",
    "print(sonuc43)\n",
    "print(sonuc42)\n",
    "print(sonuc41)\n",
    "\n",
    "\n",
    "print(sonuc44 + sonuc43 )"
   ]
  },
  {
   "cell_type": "code",
   "execution_count": 43,
   "id": "38a36757-2b7f-4d98-b326-93ff7a469f68",
   "metadata": {},
   "outputs": [
    {
     "name": "stdout",
     "output_type": "stream",
     "text": [
      "0.133915\n",
      "0.1689226\n",
      "0.12594015933333333\n"
     ]
    }
   ],
   "source": [
    "sonuc33 = 0.5 + ((0.5 * (((2.6783/10)-1)/3)) * 3)\n",
    "sonuc32 = 0.33 + ((0.33 * (((2.6783/10)-1)/3)) * 2)\n",
    "sonuc31 = 0.1666 + ((0.1666 * (((2.6783/10)-1)/3)) * 1)\n",
    "\n",
    "\n",
    "print(sonuc33)\n",
    "print(sonuc32)\n",
    "print(sonuc31)"
   ]
  },
  {
   "cell_type": "code",
   "execution_count": 44,
   "id": "668674d7-f585-47b5-baf4-788f32d069e0",
   "metadata": {},
   "outputs": [
    {
     "name": "stdout",
     "output_type": "stream",
     "text": [
      "0.11784300000000003\n",
      "0.19446075000000002\n"
     ]
    }
   ],
   "source": [
    "sonuc22 = 0.66 + ((0.66 * (((1.7855/10)-1)/2)) * 2)\n",
    "sonuc21 = 0.33 + ((0.33 * (((1.7855/10)-1)/2)) * 1)\n",
    "\n",
    "\n",
    "\n",
    "print(sonuc22)\n",
    "print(sonuc21)\n"
   ]
  },
  {
   "cell_type": "code",
   "execution_count": 45,
   "id": "620b91c4-576e-4864-aa03-036d29784ce4",
   "metadata": {},
   "outputs": [
    {
     "name": "stdout",
     "output_type": "stream",
     "text": [
      "0.08926999999999996\n"
     ]
    }
   ],
   "source": [
    "sonuc11 = 1 + ((1 * (((0.8927/10)-1)/1)) * 1)\n",
    "\n",
    "print(sonuc11)"
   ]
  },
  {
   "cell_type": "code",
   "execution_count": 46,
   "id": "e630553d-0483-4b77-844d-29bb68203509",
   "metadata": {},
   "outputs": [],
   "source": [
    "# HATAAAAAAAAAAAAAAAAAAAAAAAAAAAAAAAAAAAAAAAAAAAAAAAAAAAAAAAAAA\n",
    "#AAAAAAAAAAAAAAAAAAAAAAAAAAAAAAAAAAAAAAAAAAAA\n",
    "#AAAAAAAAAAAAAAAAAAAAAAAAAAAAAAAAAAA\n",
    "# HATAAAAAAAAAAAAAAAAAAAAAAAAAAAAAAAAAAAAAAAAAAAAAAAAAAAAAAAAAA\n",
    "#AAAAAAAAAAAAAAAAAAAAAAAAAAAAAAAAAAAAAAAAAAAA\n",
    "#AAAAAAAAAAAAAAAAAAAAAAAAAAAAAAAAAAA\n",
    "# HATAAAAAAAAAAAAAAAAAAAAAAAAAAAAAAAAAAAAAAAAAAAAAAAAAAAAAAAAAA\n",
    "#AAAAAAAAAAAAAAAAAAAAAAAAAAAAAAAAAAAAAAAAAAAA\n",
    "#AAAAAAAAAAAAAAAAAAAAAAAAAAAAAAAAAAA\n",
    "# HATAAAAAAAAAAAAAAAAAAAAAAAAAAAAAAAAAAAAAAAAAAAAAAAAAAAAAAAAAA\n",
    "#AAAAAAAAAAAAAAAAAAAAAAAAAAAAAAAAAAAAAAAAAAAA\n",
    "#AAAAAAAAAAAAAAAAAAAAAAAAAAAAAAAAAAA"
   ]
  },
  {
   "cell_type": "code",
   "execution_count": 47,
   "id": "32ad8a39-33c4-46f4-8143-d100e4cd4584",
   "metadata": {},
   "outputs": [
    {
     "name": "stdout",
     "output_type": "stream",
     "text": [
      "0.29756357399999994\n",
      "0.24373211839999998\n",
      "0.1871336\n",
      "0.1275830296\n",
      "0.06517182960000001\n",
      "0.9211841515999999\n"
     ]
    }
   ],
   "source": [
    "#B= A + A * ((p1/p2 - 1) / n ) * k ;\n",
    "sonuc55 = 0.3333 + ((0.3333 * (((4.4639/5)-1)/5)) * 5)\n",
    "sonuc54 = 0.2666 + ((0.2666 * (((8.9278/10)-1)/5)) * 4)\n",
    "sonuc53 = 0.2 + ((0.2 * (((8.9278/10)-1)/5)) * 3)\n",
    "sonuc52 = 0.1333 + ((0.1333 * (((8.9278/10)-1)/5)) * 2 )\n",
    "sonuc51 = 0.0666+ (( 0.0666 * (((8.9278/10)-1)/5))*1)\n",
    "\n",
    "                                  \n",
    "print(sonuc55)\n",
    "print(sonuc54)\n",
    "print(sonuc53)\n",
    "print(sonuc52)\n",
    "print(sonuc51)\n",
    "\n",
    "\n",
    "print(sonuc55 + sonuc54  + sonuc53  + sonuc52 + sonuc51  )"
   ]
  },
  {
   "cell_type": "code",
   "execution_count": 48,
   "id": "80c96f2c-5246-4bd7-9d96-09007f1d28f4",
   "metadata": {},
   "outputs": [],
   "source": [
    "# k/(n*(n+1)/2)\n",
    "\n"
   ]
  },
  {
   "cell_type": "code",
   "execution_count": 49,
   "id": "85f746e4-6709-4a3b-ac2f-43ae727c4995",
   "metadata": {},
   "outputs": [
    {
     "name": "stdout",
     "output_type": "stream",
     "text": [
      "0.357112\n",
      "0.27587549999999994\n",
      "0.189278\n",
      "0.0973195\n",
      "0.9195849999999999\n"
     ]
    }
   ],
   "source": [
    "sonuc44 = 0.4 + ((0.4 * (((8.9278/10)-1)/4)) * 4)\n",
    "sonuc43 = 0.3 + ((0.3 * (((8.9278/10)-1)/4)) * 3)\n",
    "sonuc42 = 0.2 + ((0.2 * (((8.9278/10)-1)/4)) * 2)\n",
    "sonuc41 = 0.1 + ((0.1 * (((8.9278/10)-1)/4)) * 1)\n",
    "\n",
    "\n",
    "\n",
    "print(sonuc44)\n",
    "print(sonuc43)\n",
    "print(sonuc42)\n",
    "print(sonuc41)\n",
    "\n",
    "print(sonuc44 + sonuc43 + sonuc42 + sonuc41)"
   ]
  },
  {
   "cell_type": "code",
   "execution_count": 50,
   "id": "c174e7c2-cbbf-4376-a643-ed8fd5bef6bf",
   "metadata": {},
   "outputs": [
    {
     "name": "stdout",
     "output_type": "stream",
     "text": [
      "0.44638999999999995\n",
      "0.30947571599999996\n",
      "0.160645716\n",
      "Toplam Ulaşılabilecek Tahmini Olasılık: 0.916511432\n"
     ]
    }
   ],
   "source": [
    "sonuc33 = 0.5 + ((0.5 * (((8.9278/10)-1)/3)) * 3)\n",
    "sonuc32 = 0.3333 + ((0.3333 * (((8.9278/10)-1)/3)) * 2)\n",
    "sonuc31 = 0.1666 + ((0.1666 * (((8.9278/10)-1)/3)) * 1)\n",
    "\n",
    "\n",
    "\n",
    "\n",
    "print(sonuc33)\n",
    "print(sonuc32)\n",
    "print(sonuc31)\n",
    "\n",
    "\n",
    "print(\"Toplam Ulaşılabilecek Tahmini Olasılık:\" ,sonuc33 + sonuc32 + sonuc31)"
   ]
  },
  {
   "cell_type": "code",
   "execution_count": 51,
   "id": "74ca68df-cefd-49be-95a1-6826b598cbc7",
   "metadata": {},
   "outputs": [
    {
     "name": "stdout",
     "output_type": "stream",
     "text": [
      "0.5892348\n",
      "0.3123087\n"
     ]
    }
   ],
   "source": [
    "sonuc22 = 0.66 + ((0.66 * (((8.9278/10)-1)/2)) * 2)\n",
    "sonuc21 = 0.33 + ((0.33 * (((8.9278/10)-1)/2)) * 1)\n",
    "\n",
    "\n",
    "\n",
    "\n",
    "print(sonuc22)\n",
    "print(sonuc21)"
   ]
  },
  {
   "cell_type": "code",
   "execution_count": 52,
   "id": "8788a80f-79b3-4b92-85e9-a8c4d2929872",
   "metadata": {},
   "outputs": [
    {
     "name": "stdout",
     "output_type": "stream",
     "text": [
      "0.8927799999999999\n"
     ]
    }
   ],
   "source": [
    "sonuc21 = 1 + ((1 * (((8.9278/10)-1)/1)) * 1)\n",
    "\n",
    "print(sonuc21)"
   ]
  },
  {
   "cell_type": "code",
   "execution_count": 53,
   "id": "61099166-be8a-4158-a162-3c560b493c65",
   "metadata": {},
   "outputs": [
    {
     "name": "stdout",
     "output_type": "stream",
     "text": [
      "0.16068756599999998\n",
      "0.1465010188\n",
      "0.1318917584\n",
      "0.1168597848\n",
      "0.101405098\n",
      "0.07154693549999999\n",
      "0.06031589679999999\n",
      "0.0475322\n",
      "0.0354568962\n",
      "0.0178898047\n",
      "0.8900869592000001\n"
     ]
    }
   ],
   "source": [
    "sonuc100 = 0.1818 + ((0.1818 * (((8.8387/10)-1)/10)) * 10)\n",
    "sonuc90 = 0.1636 + ((0.1636 * (((8.8387/10)-1)/10)) * 9)\n",
    "sonuc80 =    0.1454 + ((0.1454 * (((8.8387/10)-1)/10)) * 8)\n",
    "sonuc70 = 0.1272 + ((0.1272 * (((8.8387/10)-1)/10)) * 7 )\n",
    "sonuc60 = 0.109+ (( 0.109 * (((8.8387/10)-1)/10))*6)\n",
    "sonuc50 = 0.0909+ (( 0.3333 * (((8.8387/10)-1)/10))*5)\n",
    "#sonuc5 = 0.3333 + ((0.3333 * (((8.8387/10)-1)/10)) * 5)\n",
    "sonuc40 = 0.0727 + ((0.2666 * (((8.8387/10)-1)/10)) * 4)\n",
    "sonuc30 =    0.0545 + ((0.2 * (((8.8387/10)-1)/10)) * 3)\n",
    "sonuc20 = 0.0363 + ((0.0363 * (((8.8387/10)-1)/10)) * 2 )\n",
    "sonuc10 = 0.0181+ (( 0.0181 * (((8.8387/10)-1)/10))*1)\n",
    "\n",
    "\n",
    "\n",
    "print(sonuc100)\n",
    "print(sonuc90)\n",
    "print(sonuc80)\n",
    "print(sonuc70)\n",
    "print(sonuc60)\n",
    "print(sonuc50)\n",
    "print(sonuc40)\n",
    "print(sonuc30)\n",
    "print(sonuc20)\n",
    "print(sonuc10)\n",
    "\n",
    "\n",
    "print(sonuc100 + sonuc90 + sonuc80 + sonuc70 + sonuc60 + sonuc50 + sonuc40 + sonuc30 + sonuc20 + sonuc10)\n"
   ]
  },
  {
   "cell_type": "code",
   "execution_count": 54,
   "id": "61124d78-9b9f-46c8-8d14-305123b5de6a",
   "metadata": {},
   "outputs": [
    {
     "name": "stdout",
     "output_type": "stream",
     "text": [
      "0.18070039999999998\n",
      "0.1624576048\n",
      "0.14382910299999999\n",
      "0.1247245444\n",
      "0.105143929\n",
      "0.0849915456\n",
      "0.0644577444\n",
      "0.0434478864\n",
      "0.0219619716\n",
      "0.9317147292\n"
     ]
    }
   ],
   "source": [
    "\n",
    "sonuc90 = 0.2 + ((0.2 * (((8.9278/10)-1)/10)) * 9)\n",
    "sonuc80 =    0.1777 + ((0.1777 * (((8.9278/10)-1)/10)) * 8)\n",
    "sonuc70 = 0.1555 + ((0.1555 * (((8.9278/10)-1)/10)) * 7 )\n",
    "sonuc60 = 0.1333+ (( 0.1333 * (((8.9278/10)-1)/10))*6)\n",
    "sonuc50 = 0.1111+ (( 0.1111 * (((8.9278/10)-1)/10))*5)\n",
    "sonuc40 = 0.0888 + ((0.0888 * (((8.9278/10)-1)/10)) * 4)\n",
    "sonuc30 =    0.0666 + ((0.0666 * (((8.9278/10)-1)/10)) * 3)\n",
    "sonuc20 = 0.0444 + ((0.0444 * (((8.9278/10)-1)/10)) * 2 )\n",
    "sonuc10 = 0.0222+ (( 0.0222 * (((8.9278/10)-1)/10))*1)\n",
    "\n",
    "\n",
    "\n",
    "\n",
    "print(sonuc90)\n",
    "print(sonuc80)\n",
    "print(sonuc70)\n",
    "print(sonuc60)\n",
    "print(sonuc50)\n",
    "print(sonuc40)\n",
    "print(sonuc30)\n",
    "print(sonuc20)\n",
    "print(sonuc10)\n",
    "\n",
    "sonuc = sonuc90 + sonuc80 + sonuc70 + sonuc60 + sonuc50 + sonuc40 + sonuc30 + sonuc20 + sonuc10 \n",
    "\n",
    "print(sonuc)"
   ]
  },
  {
   "cell_type": "code",
   "execution_count": 55,
   "id": "0ea70043-7075-41e9-aecd-0f5c51d86925",
   "metadata": {},
   "outputs": [
    {
     "name": "stdout",
     "output_type": "stream",
     "text": [
      "0.31543178699999996\n"
     ]
    }
   ],
   "source": [
    "sonuc5 = 0.3333 + ((0.3333 * (((8.9278/10)-1)/10)) * 5)\n",
    "\n",
    "print(sonuc5)"
   ]
  },
  {
   "cell_type": "code",
   "execution_count": 56,
   "id": "0f54561a-94c7-4a4a-bda5-fc193374b794",
   "metadata": {},
   "outputs": [
    {
     "name": "stdout",
     "output_type": "stream",
     "text": [
      "0.047619047619047616\n"
     ]
    }
   ],
   "source": [
    "# k/(n*(n+1)/2)\n",
    "\n",
    "n= 6 \n",
    "\n",
    "sonuc =1 / (n*(n+1)/2)\n",
    "print(sonuc)"
   ]
  },
  {
   "cell_type": "code",
   "execution_count": 57,
   "id": "c8da77e9-7923-4e46-8aee-95f99daba709",
   "metadata": {},
   "outputs": [
    {
     "name": "stdout",
     "output_type": "stream",
     "text": [
      "0.15713280000000002\n",
      "0.145792224\n",
      "0.130894288\n",
      "0.11401032\n",
      "0.095226032\n",
      "0.074373572\n",
      "0.05153508\n",
      "0.026710556\n",
      "0.7956748720000001\n"
     ]
    }
   ],
   "source": [
    "\n",
    "sonuc80 = 0.22 + ((0.22 * (((7.1424/10)-1)/8)) * 8 )\n",
    "sonuc70 = 0.1944+ (( 0.1944 * (((7.1424/10)-1)/8))*7)\n",
    "sonuc60 = 0.1666+ (( 0.1666 * (((7.1424/10)-1)/8))*6)\n",
    "\n",
    "\n",
    "sonuc50 = 0.1388 + ((0.1388 * (((7.1424/10)-1)/8)) * 5)\n",
    "sonuc40 =    0.1111 + ((0.1111 * (((7.1424/10)-1)/8)) * 4)\n",
    "sonuc30 = 0.0833 + ((0.0833 * (((7.1424/10)-1)/8)) * 3 )\n",
    "sonuc20 = 0.0555+ (( 0.0555 * (((7.1424/10)-1)/8))*2)\n",
    "sonuc10 = 0.0277+ (( 0.0277 * (((7.1424/10)-1)/8))*1)\n",
    "\n",
    "sonuc55 = sonuc80 + sonuc70 + sonuc60 + sonuc50 + sonuc40 + sonuc30 + sonuc20 + sonuc10 \n",
    "\n",
    "print(sonuc80) \n",
    "print(sonuc70) \n",
    "print(sonuc60) \n",
    "print(sonuc50) \n",
    "print(sonuc40) \n",
    "print(sonuc30) \n",
    "print(sonuc20) \n",
    "print(sonuc10)\n",
    "\n",
    "\n",
    "print(sonuc55) \n",
    "\n",
    "\n",
    "\n",
    "\n"
   ]
  },
  {
   "cell_type": "code",
   "execution_count": 58,
   "id": "979c5df8-b7f2-47f9-bade-dbfb91639436",
   "metadata": {},
   "outputs": [
    {
     "name": "stdout",
     "output_type": "stream",
     "text": [
      "0.130605696\n",
      "0.11973875199999999\n",
      "0.10626528\n",
      "0.090266528\n",
      "0.071584688\n",
      "0.05029632\n",
      "0.026401424\n",
      "0.5951586879999999\n"
     ]
    }
   ],
   "source": [
    "sonuc70 = 0.1944+ (( 0.1944 * (((6.2496/10)-1)/8))*7)\n",
    "sonuc60 = 0.1666+ (( 0.1666 * (((6.2496/10)-1)/8))*6)\n",
    "\n",
    "\n",
    "sonuc50 = 0.1388 + ((0.1388 * (((6.2496/10)-1)/8)) * 5)\n",
    "sonuc40 =    0.1111 + ((0.1111 * (((6.2496/10)-1)/8)) * 4)\n",
    "sonuc30 = 0.0833 + ((0.0833 * (((6.2496/10)-1)/8)) * 3 )\n",
    "sonuc20 = 0.0555+ (( 0.0555 * (((6.2496/10)-1)/8))*2)\n",
    "sonuc10 = 0.0277+ (( 0.0277 * (((6.2496/10)-1)/8))*1)\n",
    "\n",
    "sonuc55 =  sonuc70 + sonuc60 + sonuc50 + sonuc40 + sonuc30 + sonuc20 + sonuc10 \n",
    "\n",
    "\n",
    "print(sonuc70) \n",
    "print(sonuc60) \n",
    "print(sonuc50) \n",
    "print(sonuc40) \n",
    "print(sonuc30) \n",
    "print(sonuc20) \n",
    "print(sonuc10)\n",
    "\n",
    "\n",
    "print(sonuc55) "
   ]
  },
  {
   "cell_type": "code",
   "execution_count": 59,
   "id": "e0a51908-09b0-416a-9391-f404007f81d9",
   "metadata": {},
   "outputs": [
    {
     "name": "stdout",
     "output_type": "stream",
     "text": [
      "0.11973875199999999\n",
      "0.10626528\n",
      "0.090266528\n",
      "0.071584688\n",
      "0.05029632\n",
      "0.02732875075\n",
      "0.46548031875\n"
     ]
    }
   ],
   "source": [
    "\n",
    "\n",
    "sonuc60 = 0.1666+ (( 0.1666 * (((6.2496/10)-1)/8))*6)\n",
    "\n",
    "\n",
    "sonuc50 = 0.1388 + ((0.1388 * (((6.2496/10)-1)/8)) * 5)\n",
    "sonuc40 =    0.1111 + ((0.1111 * (((6.2496/10)-1)/8)) * 4)\n",
    "sonuc30 = 0.0833 + ((0.0833 * (((6.2496/10)-1)/8)) * 3 )\n",
    "sonuc20 = 0.0555+ (( 0.0555 * (((6.2496/10)-1)/8))*2)\n",
    "sonuc10 = 0.0277+ (( 0.0277 * (((8.9278/10)-1)/8))*1)\n",
    "\n",
    "sonuc55 =   sonuc60 + sonuc50 + sonuc40 + sonuc30 + sonuc20 + sonuc10 \n",
    "\n",
    " \n",
    "\n",
    "print(sonuc60) \n",
    "print(sonuc50) \n",
    "print(sonuc40) \n",
    "print(sonuc30) \n",
    "print(sonuc20) \n",
    "print(sonuc10)\n",
    "\n",
    "\n",
    "print(sonuc55) "
   ]
  },
  {
   "cell_type": "code",
   "execution_count": 60,
   "id": "c85978b8-08c5-437d-88c6-6d6b9ba0642e",
   "metadata": {},
   "outputs": [
    {
     "name": "stdout",
     "output_type": "stream",
     "text": [
      "0.129498665\n",
      "0.105143929\n",
      "0.07995071525\n",
      "0.0540123225\n",
      "0.02732875075\n",
      "0.3959343825\n"
     ]
    }
   ],
   "source": [
    "\n",
    "\n",
    "\n",
    "\n",
    "sonuc50 = 0.1388 + ((0.1388 * (((8.9278/10)-1)/8)) * 5)\n",
    "sonuc40 =    0.1111 + ((0.1111 * (((8.9278/10)-1)/8)) * 4)\n",
    "sonuc30 = 0.0833 + ((0.0833 * (((8.9278/10)-1)/8)) * 3 )\n",
    "sonuc20 = 0.0555+ (( 0.0555 * (((8.9278/10)-1)/8))*2)\n",
    "sonuc10 = 0.0277+ (( 0.0277 * (((8.9278/10)-1)/8))*1)\n",
    "sonuc55 =    sonuc50 + sonuc40 + sonuc30 + sonuc20 + sonuc10 \n",
    "\n",
    " \n",
    "\n",
    "print(sonuc50) \n",
    "print(sonuc40) \n",
    "print(sonuc30) \n",
    "print(sonuc20) \n",
    "print(sonuc10)\n",
    "\n",
    "print(sonuc55)"
   ]
  },
  {
   "cell_type": "code",
   "execution_count": 61,
   "id": "175b2129-47d7-4f7c-9420-85340ffa9d7e",
   "metadata": {},
   "outputs": [
    {
     "name": "stdout",
     "output_type": "stream",
     "text": [
      "0.178556\n",
      "0.17543774999999998\n",
      "0.14463900000000002\n",
      "0.08615975000000001\n",
      "0.5847925\n"
     ]
    }
   ],
   "source": [
    "\n",
    "\n",
    "sonuc40 =    0.4 + ((0.4 * (((4.4639 /10)-1)/4)) * 4)\n",
    "sonuc30 = 0.3 + ((0.3 * (((4.4639 /10)-1)/4)) * 3 )\n",
    "sonuc20 = 0.2+ (( 0.2 * (((4.4639 /10)-1)/4))*2)\n",
    "sonuc10 = 0.1+ (( 0.1 * (((4.4639 /10)-1)/4))*1)\n",
    "\n",
    "\n",
    "sonuc55 =    sonuc40 + sonuc30 + sonuc20 + sonuc10 \n",
    "\n",
    "\n",
    "print(sonuc40) \n",
    "print(sonuc30) \n",
    "print(sonuc20) \n",
    "print(sonuc10)\n",
    "\n",
    "\n",
    "print(sonuc55)"
   ]
  },
  {
   "cell_type": "code",
   "execution_count": null,
   "id": "808ac715-16d1-4b93-bd92-6dbfb306737e",
   "metadata": {},
   "outputs": [],
   "source": []
  },
  {
   "cell_type": "code",
   "execution_count": null,
   "id": "35e62a45-13c7-4edd-8df9-56734cc0d593",
   "metadata": {},
   "outputs": [],
   "source": []
  },
  {
   "cell_type": "code",
   "execution_count": null,
   "id": "72336335-970a-4c03-b4a2-b7b8f6b0204c",
   "metadata": {},
   "outputs": [],
   "source": []
  }
 ],
 "metadata": {
  "kernelspec": {
   "display_name": "Python 3 (ipykernel)",
   "language": "python",
   "name": "python3"
  },
  "language_info": {
   "codemirror_mode": {
    "name": "ipython",
    "version": 3
   },
   "file_extension": ".py",
   "mimetype": "text/x-python",
   "name": "python",
   "nbconvert_exporter": "python",
   "pygments_lexer": "ipython3",
   "version": "3.11.1"
  }
 },
 "nbformat": 4,
 "nbformat_minor": 5
}
